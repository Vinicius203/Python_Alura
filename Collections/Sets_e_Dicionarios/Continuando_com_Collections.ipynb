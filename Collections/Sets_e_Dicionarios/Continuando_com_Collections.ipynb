{
  "nbformat": 4,
  "nbformat_minor": 0,
  "metadata": {
    "colab": {
      "provenance": [],
      "authorship_tag": "ABX9TyOErVB4h6FzP4MounqKmxON",
      "include_colab_link": true
    },
    "kernelspec": {
      "name": "python3",
      "display_name": "Python 3"
    },
    "language_info": {
      "name": "python"
    }
  },
  "cells": [
    {
      "cell_type": "markdown",
      "metadata": {
        "id": "view-in-github",
        "colab_type": "text"
      },
      "source": [
        "<a href=\"https://colab.research.google.com/github/Vinicius203/Python_Alura/blob/master/Collections/Sets_e_Dicionarios/Continuando_com_Collections.ipynb\" target=\"_parent\"><img src=\"https://colab.research.google.com/assets/colab-badge.svg\" alt=\"Open In Colab\"/></a>"
      ]
    },
    {
      "cell_type": "markdown",
      "source": [
        "# Sets"
      ],
      "metadata": {
        "id": "E9RqiV5QXr9W"
      }
    },
    {
      "cell_type": "code",
      "execution_count": null,
      "metadata": {
        "id": "OhnzNQNuWsUw"
      },
      "outputs": [],
      "source": [
        "usuarios_data_science = [15, 23, 43, 56]\n",
        "usuarios_machine_learning = [13, 23, 56, 42]"
      ]
    },
    {
      "cell_type": "markdown",
      "source": [
        "**Interseção de Listas**\n",
        "\n",
        "Aqui, a lista \"assistiram\" está juntano os dados das listas \"usuarios_data_science\" e \"usuarios_machine_learning\". Como há dados em comum nas listas (interseção), a lista \"assistiram\" irá ficar com dados duplicados.\n",
        "\n",
        "No caso de ser necessário enviar um e-mail ou mensagem para todos os dados da lista, os clientes com dados duplicados receberiam dois e-mails. E não é isso que queremos."
      ],
      "metadata": {
        "id": "2Q-Fyj3LXwXF"
      }
    },
    {
      "cell_type": "code",
      "source": [
        "assistiram = usuarios_data_science.copy()\n",
        "assistiram.extend(usuarios_machine_learning)\n",
        "assistiram"
      ],
      "metadata": {
        "colab": {
          "base_uri": "https://localhost:8080/"
        },
        "id": "XoW1X0mVXAYw",
        "outputId": "e7885033-cf72-445b-e901-932e5a22ea5c"
      },
      "execution_count": null,
      "outputs": [
        {
          "output_type": "execute_result",
          "data": {
            "text/plain": [
              "[15, 23, 43, 56, 13, 23, 56, 42]"
            ]
          },
          "metadata": {},
          "execution_count": 2
        }
      ]
    },
    {
      "cell_type": "code",
      "source": [
        "len(assistiram)"
      ],
      "metadata": {
        "colab": {
          "base_uri": "https://localhost:8080/"
        },
        "id": "xTeh2pNOXmKI",
        "outputId": "8777d581-cbbe-4e83-b8fb-c52e97827daf"
      },
      "execution_count": null,
      "outputs": [
        {
          "output_type": "execute_result",
          "data": {
            "text/plain": [
              "8"
            ]
          },
          "metadata": {},
          "execution_count": 3
        }
      ]
    },
    {
      "cell_type": "markdown",
      "source": [
        "**Set**\n",
        "\n",
        "Os conjuntos (sets) são denotados por chaves {  }. Neles, os itens são únicos (não há duplicatas) e também não existe índice, pois a ordem não importa."
      ],
      "metadata": {
        "id": "hoVHkkQjYq1q"
      }
    },
    {
      "cell_type": "code",
      "source": [
        "set(assistiram)\n"
      ],
      "metadata": {
        "colab": {
          "base_uri": "https://localhost:8080/"
        },
        "id": "0cixJvKAXnwH",
        "outputId": "5bd1114a-5289-4053-9701-c32d14496985"
      },
      "execution_count": null,
      "outputs": [
        {
          "output_type": "execute_result",
          "data": {
            "text/plain": [
              "{13, 15, 23, 42, 43, 56}"
            ]
          },
          "metadata": {},
          "execution_count": 8
        }
      ]
    },
    {
      "cell_type": "code",
      "source": [
        "set_1 = {13, 14, 20, 29, 32, 14, 20}\n",
        "print(set_1)"
      ],
      "metadata": {
        "id": "RQlqKMF5Y2eZ"
      },
      "execution_count": null,
      "outputs": []
    },
    {
      "cell_type": "code",
      "source": [
        "for usuario in set(assistiram):\n",
        "  print(usuario)"
      ],
      "metadata": {
        "colab": {
          "base_uri": "https://localhost:8080/"
        },
        "id": "J9129UkZZJgo",
        "outputId": "05a22818-c243-4f14-b33a-136efea3c6a1"
      },
      "execution_count": null,
      "outputs": [
        {
          "output_type": "stream",
          "name": "stdout",
          "text": [
            "42\n",
            "43\n",
            "13\n",
            "15\n",
            "23\n",
            "56\n"
          ]
        }
      ]
    },
    {
      "cell_type": "code",
      "source": [
        "# for pos, usuario in set(assistiram):\n",
        "# print(pos, usuario)\n",
        "\n",
        "# O enumerate não funciona pois os sets não possuem índice.\n",
        "# Entretanto, é possível usar um for apenas para print.\n",
        "\n",
        "for usuario in set(assistiram):\n",
        "  print(usuario)"
      ],
      "metadata": {
        "colab": {
          "base_uri": "https://localhost:8080/"
        },
        "id": "J2c0Bf2VZXHr",
        "outputId": "73252726-32f1-4617-ac48-57b623deb585"
      },
      "execution_count": null,
      "outputs": [
        {
          "output_type": "stream",
          "name": "stdout",
          "text": [
            "42\n",
            "43\n",
            "13\n",
            "15\n",
            "23\n",
            "56\n"
          ]
        }
      ]
    },
    {
      "cell_type": "markdown",
      "source": [
        "# Operações de Sets\n",
        "\n",
        "Lembrando que os sets não possuem valores repetidos."
      ],
      "metadata": {
        "id": "zIW71faWa3Vu"
      }
    },
    {
      "cell_type": "markdown",
      "source": [
        "**OR**\n",
        "\n",
        "O operador | (ou) é o equivalente a: União (A, B)."
      ],
      "metadata": {
        "id": "f-ItPdRVZzGu"
      }
    },
    {
      "cell_type": "code",
      "source": [
        "usuarios_data_science = {15, 23, 43, 56}\n",
        "usuarios_machine_learning = {13, 23, 56, 42}\n",
        "\n",
        "usuarios_data_science | usuarios_machine_learning"
      ],
      "metadata": {
        "colab": {
          "base_uri": "https://localhost:8080/"
        },
        "id": "cbnMflX5Zp9Y",
        "outputId": "bf5c5872-f1d4-473b-eed8-ef3afd1a5588"
      },
      "execution_count": null,
      "outputs": [
        {
          "output_type": "execute_result",
          "data": {
            "text/plain": [
              "{13, 15, 23, 42, 43, 56}"
            ]
          },
          "metadata": {},
          "execution_count": 14
        }
      ]
    },
    {
      "cell_type": "markdown",
      "source": [
        "**AND**\n",
        "\n",
        "O operador & (e) é o equivalente a: Interseção (A,B)."
      ],
      "metadata": {
        "id": "yo7IQmOkeDOQ"
      }
    },
    {
      "cell_type": "code",
      "source": [
        "usuarios_data_science & usuarios_machine_learning"
      ],
      "metadata": {
        "colab": {
          "base_uri": "https://localhost:8080/"
        },
        "id": "AoHYaTvSZyvu",
        "outputId": "952e9a62-7db9-41b6-9a9a-1dbe233281f1"
      },
      "execution_count": null,
      "outputs": [
        {
          "output_type": "execute_result",
          "data": {
            "text/plain": [
              "{23, 56}"
            ]
          },
          "metadata": {},
          "execution_count": 15
        }
      ]
    },
    {
      "cell_type": "markdown",
      "source": [
        "**MINUS**\n",
        "\n",
        "O operator - (menos) é o equivalente a: A - B."
      ],
      "metadata": {
        "id": "e21y6FX8e1BJ"
      }
    },
    {
      "cell_type": "code",
      "source": [
        "usuarios_data_science - usuarios_machine_learning"
      ],
      "metadata": {
        "colab": {
          "base_uri": "https://localhost:8080/"
        },
        "id": "um_rdarSe1To",
        "outputId": "1f281fee-6da1-4a1e-88b6-22b56a0c9879"
      },
      "execution_count": null,
      "outputs": [
        {
          "output_type": "execute_result",
          "data": {
            "text/plain": [
              "{15, 43}"
            ]
          },
          "metadata": {},
          "execution_count": 16
        }
      ]
    },
    {
      "cell_type": "markdown",
      "source": [
        "**XOR**\n",
        "\n",
        "O operador ^ (EXCLUSIVE OR) é o equivalente a: A + B - Interseção (A, B)."
      ],
      "metadata": {
        "id": "mLnnzPxifPW7"
      }
    },
    {
      "cell_type": "code",
      "source": [
        "usuarios_data_science ^ usuarios_machine_learning"
      ],
      "metadata": {
        "colab": {
          "base_uri": "https://localhost:8080/"
        },
        "id": "cr3vPXWhfLOF",
        "outputId": "f5d78191-b45f-4991-edb7-7bab571d479b"
      },
      "execution_count": null,
      "outputs": [
        {
          "output_type": "execute_result",
          "data": {
            "text/plain": [
              "{13, 15, 42, 43}"
            ]
          },
          "metadata": {},
          "execution_count": 18
        }
      ]
    },
    {
      "cell_type": "markdown",
      "source": [
        "**ADD**\n",
        "\n",
        "O add é o equivalente de appends para os sets. Entretanto, como nos sets não existe uma ordem, ele não é adicional ao final como o appends."
      ],
      "metadata": {
        "id": "wHApFb86x_aJ"
      }
    },
    {
      "cell_type": "code",
      "source": [
        "usuarios = {1, 5, 76, 34, 52, 13, 17}\n",
        "len(usuarios)"
      ],
      "metadata": {
        "colab": {
          "base_uri": "https://localhost:8080/"
        },
        "id": "5Qluk_alwvHp",
        "outputId": "ca2bb938-6a57-4927-ecbf-52a57a2d759e"
      },
      "execution_count": null,
      "outputs": [
        {
          "output_type": "execute_result",
          "data": {
            "text/plain": [
              "7"
            ]
          },
          "metadata": {},
          "execution_count": 19
        }
      ]
    },
    {
      "cell_type": "markdown",
      "source": [],
      "metadata": {
        "id": "QX6YfTisyMOd"
      }
    },
    {
      "cell_type": "code",
      "source": [
        "usuarios.add(13)\n",
        "len(usuarios)\n",
        "\n",
        "# O tamanho continua o mesmo, pois o 13 já estava no set."
      ],
      "metadata": {
        "colab": {
          "base_uri": "https://localhost:8080/"
        },
        "id": "AYUlmw8Xwz8T",
        "outputId": "d2074ab7-fe8d-4af4-db2e-80bd551630b9"
      },
      "execution_count": null,
      "outputs": [
        {
          "output_type": "execute_result",
          "data": {
            "text/plain": [
              "7"
            ]
          },
          "metadata": {},
          "execution_count": 21
        }
      ]
    },
    {
      "cell_type": "code",
      "source": [
        "usuarios.add(765)\n",
        "len(usuarios)\n",
        "\n",
        "# Agora com um número diferente, o tamanho aumenta."
      ],
      "metadata": {
        "colab": {
          "base_uri": "https://localhost:8080/"
        },
        "id": "11ynZ5cRxBBh",
        "outputId": "e26d8f0d-3be2-44c8-bb2c-49ff5ae7f7c1"
      },
      "execution_count": null,
      "outputs": [
        {
          "output_type": "execute_result",
          "data": {
            "text/plain": [
              "8"
            ]
          },
          "metadata": {},
          "execution_count": 23
        }
      ]
    },
    {
      "cell_type": "markdown",
      "source": [
        "**Frozenset**\n",
        "\n",
        "O frozensent \"congela\" o set, dessa forma não é possível realizar alterações."
      ],
      "metadata": {
        "id": "pzIpgfd1yUUC"
      }
    },
    {
      "cell_type": "code",
      "source": [
        "usuarios = frozenset(usuarios)\n",
        "usuarios"
      ],
      "metadata": {
        "colab": {
          "base_uri": "https://localhost:8080/"
        },
        "id": "ESPW2u8hxKp_",
        "outputId": "174986aa-adaf-44d4-9bc6-73ff228cfad7"
      },
      "execution_count": null,
      "outputs": [
        {
          "output_type": "execute_result",
          "data": {
            "text/plain": [
              "frozenset({1, 5, 13, 17, 34, 52, 76, 765})"
            ]
          },
          "metadata": {},
          "execution_count": 24
        }
      ]
    },
    {
      "cell_type": "code",
      "source": [
        "type(usuarios)"
      ],
      "metadata": {
        "colab": {
          "base_uri": "https://localhost:8080/"
        },
        "id": "ELeROLbaxSSj",
        "outputId": "5c16999b-2b9c-4e10-b544-4ed1bebc910f"
      },
      "execution_count": null,
      "outputs": [
        {
          "output_type": "execute_result",
          "data": {
            "text/plain": [
              "frozenset"
            ]
          },
          "metadata": {},
          "execution_count": 25
        }
      ]
    },
    {
      "cell_type": "code",
      "source": [
        "# usuarios.add(134)\n",
        "# não funciona porque é do tipo frozen set"
      ],
      "metadata": {
        "id": "BFJQbv52xVLN"
      },
      "execution_count": null,
      "outputs": []
    },
    {
      "cell_type": "markdown",
      "source": [
        "**O set não é só inteiro**\n",
        "\n",
        "Também podemos utilizar strings, números flutuantes e outros."
      ],
      "metadata": {
        "id": "Z_ruVC3OydHO"
      }
    },
    {
      "cell_type": "code",
      "source": [
        "meu_texto = \"Bem vindo meu nome é Guilherme eu gosto muito de nomes e tenho o meu cachorro e gosto muito de cachorro\""
      ],
      "metadata": {
        "id": "PwS8GYwixte-"
      },
      "execution_count": null,
      "outputs": []
    },
    {
      "cell_type": "code",
      "source": [
        "set(meu_texto.split())"
      ],
      "metadata": {
        "colab": {
          "base_uri": "https://localhost:8080/"
        },
        "id": "5dimsOdtxx_I",
        "outputId": "b11fb1fb-5074-49bd-c491-2a7b18f0378d"
      },
      "execution_count": null,
      "outputs": [
        {
          "output_type": "execute_result",
          "data": {
            "text/plain": [
              "{'Bem',\n",
              " 'Guilherme',\n",
              " 'cachorro',\n",
              " 'de',\n",
              " 'e',\n",
              " 'eu',\n",
              " 'gosto',\n",
              " 'meu',\n",
              " 'muito',\n",
              " 'nome',\n",
              " 'nomes',\n",
              " 'o',\n",
              " 'tenho',\n",
              " 'vindo',\n",
              " 'é'}"
            ]
          },
          "metadata": {},
          "execution_count": 28
        }
      ]
    },
    {
      "cell_type": "markdown",
      "source": [
        "# Dicionários\n",
        "\n",
        "Os dicionários são feitos no seguinte esquema:\n",
        "\n",
        "     dicionario = {\n",
        "        key : value,\n",
        "     }"
      ],
      "metadata": {
        "id": "s6tKQAvayqcl"
      }
    },
    {
      "cell_type": "code",
      "source": [
        "aparicoes = {\n",
        "    \"Guilherme\" : 1,\n",
        "    \"cachorro\" : 2,\n",
        "    \"nome\" : 2,\n",
        "    \"vindo\" : 1\n",
        "}\n",
        "\n",
        "type(aparicoes)"
      ],
      "metadata": {
        "colab": {
          "base_uri": "https://localhost:8080/"
        },
        "id": "seakur7oys5x",
        "outputId": "11fd47e6-d9cd-4b7e-9ab1-1feabd0d39c7"
      },
      "execution_count": null,
      "outputs": [
        {
          "output_type": "execute_result",
          "data": {
            "text/plain": [
              "dict"
            ]
          },
          "metadata": {},
          "execution_count": 35
        }
      ]
    },
    {
      "cell_type": "markdown",
      "source": [
        "**Procurando por Chave**\n",
        "\n",
        "Ao utilizarmos:       \n",
        "    \n",
        "    dicionario[\"Chave\"]\n",
        "\n",
        "o valor dessa chave é retornado."
      ],
      "metadata": {
        "id": "Ye4yhRe-0oZU"
      }
    },
    {
      "cell_type": "code",
      "source": [
        "aparicoes[\"Guilherme\"]"
      ],
      "metadata": {
        "colab": {
          "base_uri": "https://localhost:8080/"
        },
        "id": "djnHMYdM0VNh",
        "outputId": "75e585a5-de88-4a67-95ce-edc35eca3c0f"
      },
      "execution_count": null,
      "outputs": [
        {
          "output_type": "execute_result",
          "data": {
            "text/plain": [
              "1"
            ]
          },
          "metadata": {},
          "execution_count": 36
        }
      ]
    },
    {
      "cell_type": "markdown",
      "source": [
        "**Get**\n",
        "\n",
        "O método get recebe a chave e podemos instanciar o valor 0, assim, se a chave não existir, o método retornará 0. Caso a chave exista, volta o valor dela."
      ],
      "metadata": {
        "id": "A9vmiwzf0_Ec"
      }
    },
    {
      "cell_type": "code",
      "source": [
        "aparicoes.get(\"xpto\", 0)"
      ],
      "metadata": {
        "colab": {
          "base_uri": "https://localhost:8080/"
        },
        "id": "NHaUvEFz1AWG",
        "outputId": "50762b70-b2bf-4f9a-d5dc-9b879648cd0f"
      },
      "execution_count": null,
      "outputs": [
        {
          "output_type": "execute_result",
          "data": {
            "text/plain": [
              "0"
            ]
          },
          "metadata": {},
          "execution_count": 37
        }
      ]
    },
    {
      "cell_type": "code",
      "source": [
        "aparicoes.get(\"cachorro\", 0)"
      ],
      "metadata": {
        "colab": {
          "base_uri": "https://localhost:8080/"
        },
        "id": "p0S2WR6q1U1i",
        "outputId": "4dd45be2-6eb3-42f9-c464-48dedd729495"
      },
      "execution_count": null,
      "outputs": [
        {
          "output_type": "execute_result",
          "data": {
            "text/plain": [
              "2"
            ]
          },
          "metadata": {},
          "execution_count": 38
        }
      ]
    },
    {
      "cell_type": "markdown",
      "source": [
        "**Adicionar, Alterar e Remover**\n"
      ],
      "metadata": {
        "id": "47OiqLAh6vYP"
      }
    },
    {
      "cell_type": "markdown",
      "source": [
        "**Adicionar**\n",
        "\n",
        "Para adicionar apenas colocamos uma chave nova e atribuímos um valor a ela."
      ],
      "metadata": {
        "id": "DA5Gqqqm68DL"
      }
    },
    {
      "cell_type": "code",
      "source": [
        "aparicoes[\"Carlos\"] = 2\n",
        "aparicoes"
      ],
      "metadata": {
        "colab": {
          "base_uri": "https://localhost:8080/"
        },
        "id": "g6m6w-Nl6z_N",
        "outputId": "21f4505a-d462-4106-fe84-a9e4efd95480"
      },
      "execution_count": null,
      "outputs": [
        {
          "output_type": "execute_result",
          "data": {
            "text/plain": [
              "{'Guilherme': 1, 'cachorro': 2, 'nome': 2, 'vindo': 1, 'Carlos': 2}"
            ]
          },
          "metadata": {},
          "execution_count": 39
        }
      ]
    },
    {
      "cell_type": "markdown",
      "source": [
        "**Alterar**\n",
        "\n",
        "Para alterar apenas colocamos a chave existente que queremos mudar e atribuímos um novo valor."
      ],
      "metadata": {
        "id": "fhWDJeag7GbG"
      }
    },
    {
      "cell_type": "code",
      "source": [
        "aparicoes[\"Carlos\"] = 3\n",
        "aparicoes"
      ],
      "metadata": {
        "colab": {
          "base_uri": "https://localhost:8080/"
        },
        "id": "3iAi5f7G7Eaj",
        "outputId": "37d935e4-4941-4d5b-f0ae-2a4a19c7692d"
      },
      "execution_count": null,
      "outputs": [
        {
          "output_type": "execute_result",
          "data": {
            "text/plain": [
              "{'Guilherme': 1, 'cachorro': 2, 'nome': 2, 'vindo': 1, 'Carlos': 3}"
            ]
          },
          "metadata": {},
          "execution_count": 40
        }
      ]
    },
    {
      "cell_type": "markdown",
      "source": [
        "**Remover**\n",
        "\n",
        "Para remover usamos o delete."
      ],
      "metadata": {
        "id": "knreNR0K7WGS"
      }
    },
    {
      "cell_type": "code",
      "source": [
        "del aparicoes[\"Carlos\"]\n",
        "aparicoes"
      ],
      "metadata": {
        "colab": {
          "base_uri": "https://localhost:8080/"
        },
        "id": "1VV9IIl07DPx",
        "outputId": "71cb9d00-4013-404c-f883-d012f1fa6ce6"
      },
      "execution_count": null,
      "outputs": [
        {
          "output_type": "execute_result",
          "data": {
            "text/plain": [
              "{'Guilherme': 1, 'cachorro': 2, 'nome': 2, 'vindo': 1}"
            ]
          },
          "metadata": {},
          "execution_count": 41
        }
      ]
    },
    {
      "cell_type": "markdown",
      "source": [
        "**Verificação**\n",
        "\n",
        "Utilizamos o in para verificar se a chave existe no dicionário."
      ],
      "metadata": {
        "id": "3kkwF0yc7zXV"
      }
    },
    {
      "cell_type": "code",
      "source": [
        "\"cachorro\" in aparicoes\n"
      ],
      "metadata": {
        "colab": {
          "base_uri": "https://localhost:8080/"
        },
        "id": "bpvNFUux7f4C",
        "outputId": "8a6418db-58f7-44f8-c090-1e5d52b17647"
      },
      "execution_count": null,
      "outputs": [
        {
          "output_type": "execute_result",
          "data": {
            "text/plain": [
              "True"
            ]
          },
          "metadata": {},
          "execution_count": 42
        }
      ]
    },
    {
      "cell_type": "code",
      "source": [
        "\"Carlos\" in aparicoes"
      ],
      "metadata": {
        "colab": {
          "base_uri": "https://localhost:8080/"
        },
        "id": "tvTebj9-7h36",
        "outputId": "4ae6bbe7-a35e-48a5-a233-0ceea7d6b00d"
      },
      "execution_count": null,
      "outputs": [
        {
          "output_type": "execute_result",
          "data": {
            "text/plain": [
              "False"
            ]
          },
          "metadata": {},
          "execution_count": 43
        }
      ]
    },
    {
      "cell_type": "markdown",
      "source": [
        "**Iteração nos Dicionários**"
      ],
      "metadata": {
        "id": "aXaQfMNS7_Lv"
      }
    },
    {
      "cell_type": "markdown",
      "source": [
        "**Diretamente pelo Dicionário**\n",
        "\n"
      ],
      "metadata": {
        "id": "hXDuYTx881_R"
      }
    },
    {
      "cell_type": "code",
      "source": [
        "for elemento in aparicoes:\n",
        "  print(elemento)"
      ],
      "metadata": {
        "colab": {
          "base_uri": "https://localhost:8080/"
        },
        "id": "TQ0rZfYP77sc",
        "outputId": "115379ae-730f-41af-ebb4-ef26bbb11028"
      },
      "execution_count": null,
      "outputs": [
        {
          "output_type": "stream",
          "name": "stdout",
          "text": [
            "Guilherme\n",
            "cachorro\n",
            "nome\n",
            "vindo\n"
          ]
        }
      ]
    },
    {
      "cell_type": "markdown",
      "source": [
        "**Pelas Chaves**"
      ],
      "metadata": {
        "id": "_r_REN3N9H0-"
      }
    },
    {
      "cell_type": "code",
      "source": [
        "for elemento in aparicoes.keys():\n",
        "  print(elemento)"
      ],
      "metadata": {
        "colab": {
          "base_uri": "https://localhost:8080/"
        },
        "id": "zatcaLX08Cf7",
        "outputId": "713a0ab6-3192-4817-c1a1-ae674dd1b7ef"
      },
      "execution_count": null,
      "outputs": [
        {
          "output_type": "stream",
          "name": "stdout",
          "text": [
            "Guilherme\n",
            "cachorro\n",
            "nome\n",
            "vindo\n"
          ]
        }
      ]
    },
    {
      "cell_type": "markdown",
      "source": [
        "**Pelos Valores**"
      ],
      "metadata": {
        "id": "i-q54RtF9PYx"
      }
    },
    {
      "cell_type": "code",
      "source": [
        "for elemento in aparicoes.values():\n",
        "  print(elemento)"
      ],
      "metadata": {
        "colab": {
          "base_uri": "https://localhost:8080/"
        },
        "id": "oL1-P0v09MdM",
        "outputId": "aa7d0b4f-2ad3-4dae-ac51-38576b468626"
      },
      "execution_count": null,
      "outputs": [
        {
          "output_type": "stream",
          "name": "stdout",
          "text": [
            "1\n",
            "2\n",
            "2\n",
            "1\n"
          ]
        }
      ]
    },
    {
      "cell_type": "markdown",
      "source": [
        "**Chaves e Valores**"
      ],
      "metadata": {
        "id": "ToTZss4N9Ukk"
      }
    },
    {
      "cell_type": "code",
      "source": [
        "for elemento in aparicoes.items():\n",
        "  print(elemento)"
      ],
      "metadata": {
        "colab": {
          "base_uri": "https://localhost:8080/"
        },
        "id": "oWJQs2fi9W64",
        "outputId": "89083d3d-f481-4e44-abb0-1cdf79617c98"
      },
      "execution_count": null,
      "outputs": [
        {
          "output_type": "stream",
          "name": "stdout",
          "text": [
            "('Guilherme', 1)\n",
            "('cachorro', 2)\n",
            "('nome', 2)\n",
            "('vindo', 1)\n"
          ]
        }
      ]
    },
    {
      "cell_type": "code",
      "source": [
        "for chave, valor in aparicoes.items():\n",
        "  print(chave, \"=\", valor)\n",
        "\n",
        "# Já podemos desempacotar diretamente dessa forma"
      ],
      "metadata": {
        "colab": {
          "base_uri": "https://localhost:8080/"
        },
        "id": "pzPFvQzN9gw3",
        "outputId": "8a5ff1dd-92a2-409a-e0b5-ceb4d0c33c4d"
      },
      "execution_count": null,
      "outputs": [
        {
          "output_type": "stream",
          "name": "stdout",
          "text": [
            "Guilherme = 1\n",
            "cachorro = 2\n",
            "nome = 2\n",
            "vindo = 1\n"
          ]
        }
      ]
    },
    {
      "cell_type": "markdown",
      "source": [
        "**List Comprehension**"
      ],
      "metadata": {
        "id": "RW_GwK_h93MN"
      }
    },
    {
      "cell_type": "code",
      "source": [
        "[\"palavra {}\".format(chave) for chave in aparicoes.keys()]"
      ],
      "metadata": {
        "colab": {
          "base_uri": "https://localhost:8080/"
        },
        "id": "Euuyxcsg95am",
        "outputId": "9cc074bc-2206-4fb3-acc2-03a56b34c00a"
      },
      "execution_count": null,
      "outputs": [
        {
          "output_type": "execute_result",
          "data": {
            "text/plain": [
              "['palavra Guilherme', 'palavra cachorro', 'palavra nome', 'palavra vindo']"
            ]
          },
          "metadata": {},
          "execution_count": 49
        }
      ]
    },
    {
      "cell_type": "markdown",
      "source": [
        "**Criando Dicionário a partir de String**"
      ],
      "metadata": {
        "id": "7HUwT5U3j6Rm"
      }
    },
    {
      "cell_type": "code",
      "source": [
        "meu_texto = \"Bem vindo meu nome é Guilherme eu gosto muito de nomes e tenho o meu cachorro e gosto muito de cachorro\"\n",
        "meu_texto = meu_texto.lower()\n",
        "\n",
        "aparicoes = {}\n",
        "\n",
        "for palavra in meu_texto.split():\n",
        "  ate_agora = aparicoes.get(palavra, 0)\n",
        "  aparicoes[palavra] = ate_agora + 1\n",
        "\n",
        "aparicoes"
      ],
      "metadata": {
        "id": "ZZplV-pDiX-Q",
        "outputId": "f82caaf3-2756-4472-af04-8eec4d709c3d",
        "colab": {
          "base_uri": "https://localhost:8080/"
        }
      },
      "execution_count": 1,
      "outputs": [
        {
          "output_type": "execute_result",
          "data": {
            "text/plain": [
              "{'bem': 1,\n",
              " 'vindo': 1,\n",
              " 'meu': 2,\n",
              " 'nome': 1,\n",
              " 'é': 1,\n",
              " 'guilherme': 1,\n",
              " 'eu': 1,\n",
              " 'gosto': 2,\n",
              " 'muito': 2,\n",
              " 'de': 2,\n",
              " 'nomes': 1,\n",
              " 'e': 2,\n",
              " 'tenho': 1,\n",
              " 'o': 1,\n",
              " 'cachorro': 2}"
            ]
          },
          "metadata": {},
          "execution_count": 1
        }
      ]
    },
    {
      "cell_type": "markdown",
      "source": [
        "**Default Dict**"
      ],
      "metadata": {
        "id": "fs3PWMbRj-8c"
      }
    },
    {
      "cell_type": "code",
      "source": [
        "from collections import defaultdict\n",
        "\n",
        "# O construtor inteiro tem padrão 0.\n",
        "aparicoes = defaultdict(int)\n",
        "\n",
        "for palavra in meu_texto.split():\n",
        "  ate_agora = aparicoes[palavra]\n",
        "  aparicoes[palavra] = ate_agora + 1\n",
        "\n",
        "aparicoes\n"
      ],
      "metadata": {
        "id": "7EygPw0ciZsv",
        "outputId": "cea53476-caa0-4a2e-9ae3-5e371caa1f91",
        "colab": {
          "base_uri": "https://localhost:8080/"
        }
      },
      "execution_count": 3,
      "outputs": [
        {
          "output_type": "execute_result",
          "data": {
            "text/plain": [
              "defaultdict(int,\n",
              "            {'bem': 1,\n",
              "             'vindo': 1,\n",
              "             'meu': 2,\n",
              "             'nome': 1,\n",
              "             'é': 1,\n",
              "             'guilherme': 1,\n",
              "             'eu': 1,\n",
              "             'gosto': 2,\n",
              "             'muito': 2,\n",
              "             'de': 2,\n",
              "             'nomes': 1,\n",
              "             'e': 2,\n",
              "             'tenho': 1,\n",
              "             'o': 1,\n",
              "             'cachorro': 2})"
            ]
          },
          "metadata": {},
          "execution_count": 3
        }
      ]
    },
    {
      "cell_type": "code",
      "source": [
        "dicionario = defaultdict(int)\n",
        "dicionario['guilherme']"
      ],
      "metadata": {
        "id": "kcN4M7f6k3ac",
        "outputId": "6ce2bd7f-49c1-4f50-f4c6-6188a2c02e93",
        "colab": {
          "base_uri": "https://localhost:8080/"
        }
      },
      "execution_count": 4,
      "outputs": [
        {
          "output_type": "execute_result",
          "data": {
            "text/plain": [
              "0"
            ]
          },
          "metadata": {},
          "execution_count": 4
        }
      ]
    },
    {
      "cell_type": "code",
      "source": [
        "dicionario['guilherme'] = 15\n",
        "dicionario['guilherme']"
      ],
      "metadata": {
        "id": "99ss4ZtRk78X",
        "outputId": "14d32932-6166-4ca3-f680-9face88882ee",
        "colab": {
          "base_uri": "https://localhost:8080/"
        }
      },
      "execution_count": 5,
      "outputs": [
        {
          "output_type": "execute_result",
          "data": {
            "text/plain": [
              "15"
            ]
          },
          "metadata": {},
          "execution_count": 5
        }
      ]
    },
    {
      "cell_type": "code",
      "source": [
        "from collections import defaultdict\n",
        "\n",
        "# O construtor inteiro tem padrão 0.\n",
        "aparicoes = defaultdict(int)\n",
        "\n",
        "for palavra in meu_texto.split():\n",
        "  aparicoes[palavra] += 1\n",
        "\n",
        "aparicoes"
      ],
      "metadata": {
        "id": "BSRQK51jlHKY",
        "outputId": "aabfc1cf-7d8a-4d61-d643-c1790d771c5c",
        "colab": {
          "base_uri": "https://localhost:8080/"
        }
      },
      "execution_count": 6,
      "outputs": [
        {
          "output_type": "execute_result",
          "data": {
            "text/plain": [
              "defaultdict(int,\n",
              "            {'bem': 1,\n",
              "             'vindo': 1,\n",
              "             'meu': 2,\n",
              "             'nome': 1,\n",
              "             'é': 1,\n",
              "             'guilherme': 1,\n",
              "             'eu': 1,\n",
              "             'gosto': 2,\n",
              "             'muito': 2,\n",
              "             'de': 2,\n",
              "             'nomes': 1,\n",
              "             'e': 2,\n",
              "             'tenho': 1,\n",
              "             'o': 1,\n",
              "             'cachorro': 2})"
            ]
          },
          "metadata": {},
          "execution_count": 6
        }
      ]
    },
    {
      "cell_type": "code",
      "source": [
        "class Conta:\n",
        "  def __init__(self):\n",
        "    print(\"Criando uma conta\")"
      ],
      "metadata": {
        "id": "p-4IF6PLn1jr"
      },
      "execution_count": 9,
      "outputs": []
    },
    {
      "cell_type": "code",
      "source": [
        "contas = defaultdict(Conta)\n",
        "contas[15]"
      ],
      "metadata": {
        "id": "61JGV3cNn8ZH",
        "outputId": "1cef1e4f-a514-4be7-a6c6-31d98185e97d",
        "colab": {
          "base_uri": "https://localhost:8080/"
        }
      },
      "execution_count": 10,
      "outputs": [
        {
          "output_type": "stream",
          "name": "stdout",
          "text": [
            "Criando uma conta\n"
          ]
        },
        {
          "output_type": "execute_result",
          "data": {
            "text/plain": [
              "<__main__.Conta at 0x7fb09c4237f0>"
            ]
          },
          "metadata": {},
          "execution_count": 10
        }
      ]
    },
    {
      "cell_type": "markdown",
      "source": [
        "**Counter**\n",
        "\n",
        "O counter pode já diretamente receber um iterável, tornando o código ainda mais simples."
      ],
      "metadata": {
        "id": "To2ngvrcoZJX"
      }
    },
    {
      "cell_type": "code",
      "source": [
        "from collections import Counter\n",
        "\n",
        "aparicoes = Counter(meu_texto.split())\n",
        "aparicoes"
      ],
      "metadata": {
        "id": "cT2_HMXOoMtS",
        "outputId": "04c6e9da-5522-4f0f-d8a5-d905010b864f",
        "colab": {
          "base_uri": "https://localhost:8080/"
        }
      },
      "execution_count": 11,
      "outputs": [
        {
          "output_type": "execute_result",
          "data": {
            "text/plain": [
              "Counter({'bem': 1,\n",
              "         'vindo': 1,\n",
              "         'meu': 2,\n",
              "         'nome': 1,\n",
              "         'é': 1,\n",
              "         'guilherme': 1,\n",
              "         'eu': 1,\n",
              "         'gosto': 2,\n",
              "         'muito': 2,\n",
              "         'de': 2,\n",
              "         'nomes': 1,\n",
              "         'e': 2,\n",
              "         'tenho': 1,\n",
              "         'o': 1,\n",
              "         'cachorro': 2})"
            ]
          },
          "metadata": {},
          "execution_count": 11
        }
      ]
    },
    {
      "cell_type": "markdown",
      "source": [
        "# Exercício Final\n",
        "\n",
        "Nessa tarefa iremos utilizar diversas coleções."
      ],
      "metadata": {
        "id": "pdDRc7t7ol_T"
      }
    },
    {
      "cell_type": "code",
      "source": [
        "texto1 = \"\"\"\n",
        "Mas chegarei lá. Afinal, o novo trabalho do mexicano Alfonso Cuarón não se destaca apenas em seus aspectos técnicos, mas também é uma obra-prima do ponto de vista narrativo, contando uma história fascinante, inteligente e repleta de significados - o que é surpreendente, já que o roteiro foi escrito por nada menos do que cinco pessoas, o que geralmente é um mau sinal. Baseada no livro de P.D. James, a trama se passa no ano 2027, quando a única nação que ainda conta com algum tipo de governo estruturado é a Inglaterra, já que o resto do mundo parece ter sido praticamente destruído por guerras, ataques terroristas e catástrofes ambientais. Uma destas catástrofes, aliás, é a infertilidade: a pessoa mais jovem do mundo tem 18 anos de idade e é tratada como verdadeira celebridade – e é justamente com a morte deste rapaz (o “bebê Diego”, como é conhecido) que o filme tem início. Usando a comoção geral pela tragédia como desculpa para tirar um dia de folga, Theo Faron (Owen) resolve visitar um amigo, o ex-cartunista político Jasper (Caine). Mais tarde, Theo é seqüestrado por um grupo de ativistas liderado por sua ex-esposa Julian (Moore), que lhe pede um favor: documentos para que possam transportar uma jovem imigrante para fora do país (conhecidos como “fúgis”, os imigrantes são desprezados e perseguidos pelo governo). É então que Theo descobre que a tal garota está grávida, passando a ajudá-la enquanto são perseguidos por um grupo que pretende utilizar o bebê com fins políticos.\n",
        "\n",
        "Em sua estrutura, Filhos da Esperança assume, portanto, características de filme de ação – e dos bons. No entanto, a sensação experimentada pelo público é a de estar acompanhando uma narrativa essencialmente dramática e política, já que a perseguição ocorre como parte de um cenário muito bem estabelecido pelo roteiro, surgindo não como fórmula de gênero, mas como algo inevitável, conseqüência de uma realidade sempre verossímil. Quando testemunhamos o sofrimento de todos em função da morte do “bebê Diego”, percebemos de forma inequívoca a dor que a ausência de crianças provoca naquela Sociedade do futuro e, portanto, compreendemos a importância da gravidez de Kee (Ashitey). Além disso, Cuarón demonstra habilidade ao estabelecer, ainda antes do surgimento do título do filme, o universo no qual se passa a história: em uma Londres cinzenta, caótica e hostil, acompanhamos Theo enquanto este escapa por pouco de um ataque terrorista, o que estabelece o tom de insegurança e violência que dominará toda a narrativa.\n",
        "\n",
        "Aliás, o design de produção de Filhos da Esperança é primoroso, criando um convincente retrato pós-apocalíptico e de convulsão social através de pequenos detalhes, como a grade que protege as janelas do metrô e a presença atípica de animais (como camelos e ovelhas) nas ruas da cidade. Da mesma forma, é possível percebermos a instabilidade daquela Sociedade através dos onipresentes militares, das constantes mensagens de Propaganda do governo e, é claro, dos gritos de “profetas” em seus púlpitos improvisados. Importante, também, é observar que várias informações relevantes são fornecidas justamente através de detalhes cenográficos, como os recortes de jornais e as fotos presentes na casa de Jasper e as pichações nas ruas de Londres (que introduzem a idéia de revolução iminente). Finalmente, a idéia de retratar o Davi de Michelangelo (resgatado de uma Itália destruída) com uma prótese na perna esquerda revela um senso de humor curioso – mas apropriado – por parte dos realizadores.\n",
        "\n",
        "Este inesperado senso de humor, diga-se de passagem, surge em vários momentos da projeção com o objetivo de ressaltar aspectos importantes da narrativa: é através de uma piada contada por Jasper, por exemplo, que o roteiro revela a existência do Projeto Humano (que envolve um barco apropriadamente batizado de “Amanhã”; e, mais tarde, outra brincadeira (desta vez, feita por Kee) fortalece, através da ironia, o subtexto claramente religioso presente na história (e não é à toa que a garota usa um manto, durante a maior parte da projeção, que remete diretamente à figura da Virgem Maria). E não há como negar que a frase “O governo explode uma bomba sempre que tem um problema” é empregada como uma alfinetada bem-humorada na política de terror do governo Bush.\n",
        "\n",
        "\"\"\""
      ],
      "metadata": {
        "id": "K75v1zZZosSi"
      },
      "execution_count": 12,
      "outputs": []
    },
    {
      "cell_type": "code",
      "source": [
        "texto2 = \"\"\"\n",
        "A Chegada é um filme que compreende isso e que também reconhece como a ficção científica frequentemente se ocupa com questões imateriais demais para a Ciência e palpáveis demais para que soem como Fantasia – o que torna significativo como a combinação de ambas acaba por se mostrar tão apta a produzir respostas incrivelmente complexas. Algumas das reflexões mais instigantes sobre a natureza da perda e da morte vieram deste gênero, já que, em última análise, obras como 2001, Solaris e Contato lidam com nossa finitude e a daqueles que amamos – e também com nossa relação com estas. (E, sim, estou colocando o novo trabalho de Denis Villeneuve na mesma categoria destes clássicos.)\n",
        "\n",
        "Mas as similaridades entre estes longas vão além, já que também giram em torno de histórias sobre avanços tecnológicos e contatos alienígenas que, de maneira direta ou indireta, tentam solucionar filosoficamente o próprio conceito de Morte. Aliás, se pensarmos bem, é apenas natural que frequentemente a Arte imagine esta resposta partindo de fora, de outras civilizações, já que certamente não se encontra aqui - embora, claro, há quem a busque em Deus, na Filosofia ou na Psicanálise, enquanto alguns apenas aceitam a realidade de que ela simplesmente não existe.\n",
        "\n",
        "Se estou fazendo com que A Chegada soe tematicamente denso, é porque ele é. Melancólico desde os primeiros segundos, o filme, adaptado de um conto de Ted Chiang por Eric Heisserer, tem início com uma sequência que rivaliza com a de Up ao trazer a Dra. Louise Banks (Adams) pegando a filha recém-nascida pela primeira vez e ao percorrer, através de rápidas elipses, alguns de seus momentos com a garota até a morte desta ainda na adolescência. Quando reencontramos a linguista, esta cruza a tela com um ar distante e entristecido, ignorando até mesmo o agrupamento de seus alunos diante das telas de tevê que exibem as imagens de doze naves alienígenas que se posicionaram em diversos cantos do planeta. No entanto, seu interesse acaba sendo despertado de vez quando é chamada para tentar traduzir as mensagens dos visitantes, ganhando, na tarefa, a companhia do físico Ian Donnelly (Renner), também convocado pelo coronel Weber (Whitaker) e, como ela, monitorado de perto por um agente da CIA (Stuhlbarg).\n",
        "\n",
        "Adotando uma abordagem científica, mas também repleta de sensibilidade, Louise reconhece que, antes de ser um meio de comunicação, a linguagem era uma forma de expressão artística, um modo de expressar graficamente sentimentos e ideias abstratas. Assim, ao se ver diante de seres cuja linguagem escrita não é uma mera representação da falada, expandindo-a além dos fonemas (imaginem uma versão extrema do kanji do japonês contemporâneo), a protagonista se torna compreensivelmente fascinada – uma reação que se torna ainda maior quando ela se dá conta de que os alienígenas se expressam de maneira não-linear. Por outro lado, a linguista aponta os riscos inerentes a cada modo diferente de abordar a comunicação, salientando, por exemplo, como a utilização do mahjong pelos chineses pode criar uma lógica de confronto onde deveria existir a colaboração e também como termos similares podem provocar interpretações diversas segundo o contexto do tradutor, como as palavras “arma” e “ferramenta” (aliás, se este aspecto de A Chegada despertar seu interesse, assista ao documentário Is the Man Who Is Tall Happy?).\n",
        "\n",
        "Infelizmente, o contexto retratado pelo roteiro é o de pavor diante do desconhecido – e o filme compreende que, diante do medo, a reação de boa parte da humanidade é a agressão. Não é à toa que Louise pensa nos problemas à sua frente em termos de linguagem, enquanto seus superiores os avaliam seguindo a lógica da guerra. Neste sentido, diga-se de passagem, Villeneuve é hábil ao construir uma forte atmosfera de tensão através dos movimentos de câmera deliberadamente lentos, do tom de voz sempre baixo de seus personagens e mesmo do silêncio absoluto. Por outro lado, ele evoca a reação maravilhada de Ian ao trazer um plano-detalhe de sua mão tocando a superfície irregular da nave ou ao contrastar seu sorriso de antecipação pelo encontro com os visitantes à respiração pesada e ansiosa de Louise. Para completar, o cineasta cria uma lógica visual sutil ao executar tilts (movimentos de câmera verticais, como um aceno positivo de cabeça) que vão em direções opostas dependendo do que enfocam: de cima para baixo nos cenários terráqueos e de baixo para cima quando no interior da nave alienígena, contrapondo as formas de cada um de enxergar o mundo.\n",
        "\n",
        "\"\"\""
      ],
      "metadata": {
        "id": "0NEyuaN0paUY"
      },
      "execution_count": 13,
      "outputs": []
    },
    {
      "cell_type": "code",
      "source": [
        "def analisa_frequencia_de_letras(texto):\n",
        "  aparicoes = Counter(texto.lower())\n",
        "  total_de_caracteres = sum(aparicoes.values())\n",
        "\n",
        "  proporcoes = [(letra, frequencia / total_de_caracteres) for letra, frequencia in aparicoes.items()]\n",
        "  proporcoes = Counter(dict(proporcoes))\n",
        "  mais_comuns = proporcoes.most_common(10)\n",
        "  for caractere, proporcao in mais_comuns:\n",
        "    print(f'{caractere} => {proporcao*100:.2f}%')\n",
        ""
      ],
      "metadata": {
        "id": "t-O00z7dpwfj"
      },
      "execution_count": 31,
      "outputs": []
    },
    {
      "cell_type": "code",
      "source": [
        "analisa_frequencia_de_letras(texto1)"
      ],
      "metadata": {
        "id": "939XnKLtrmtb",
        "outputId": "faf05cc9-0c01-428e-d35b-74961d65b9a6",
        "colab": {
          "base_uri": "https://localhost:8080/"
        }
      },
      "execution_count": 32,
      "outputs": [
        {
          "output_type": "stream",
          "name": "stdout",
          "text": [
            "  => 16.11%\n",
            "e => 10.07%\n",
            "a => 9.74%\n",
            "o => 8.13%\n",
            "s => 5.72%\n",
            "r => 5.72%\n",
            "t => 4.65%\n",
            "i => 4.48%\n",
            "d => 4.32%\n",
            "n => 4.13%\n"
          ]
        }
      ]
    },
    {
      "cell_type": "code",
      "source": [
        "analisa_frequencia_de_letras(texto2)"
      ],
      "metadata": {
        "id": "1PmBTqGSruxq",
        "outputId": "03744454-2aaa-4601-b3be-1cae5b75889c",
        "colab": {
          "base_uri": "https://localhost:8080/"
        }
      },
      "execution_count": 26,
      "outputs": [
        {
          "output_type": "stream",
          "name": "stdout",
          "text": [
            "  => 16.16%\n",
            "e => 10.84%\n",
            "a => 10.22%\n",
            "o => 7.57%\n",
            "s => 6.14%\n",
            "n => 5.06%\n",
            "i => 4.97%\n",
            "r => 4.86%\n",
            "t => 4.46%\n",
            "d => 4.06%\n"
          ]
        }
      ]
    }
  ]
}