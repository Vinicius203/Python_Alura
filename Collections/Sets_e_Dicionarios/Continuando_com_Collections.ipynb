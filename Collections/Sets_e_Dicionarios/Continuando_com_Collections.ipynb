{
  "nbformat": 4,
  "nbformat_minor": 0,
  "metadata": {
    "colab": {
      "provenance": [],
      "authorship_tag": "ABX9TyMOJp/tnhqIlKS/Iup2FCuL",
      "include_colab_link": true
    },
    "kernelspec": {
      "name": "python3",
      "display_name": "Python 3"
    },
    "language_info": {
      "name": "python"
    }
  },
  "cells": [
    {
      "cell_type": "markdown",
      "metadata": {
        "id": "view-in-github",
        "colab_type": "text"
      },
      "source": [
        "<a href=\"https://colab.research.google.com/github/Vinicius203/Python_Alura/blob/master/Collections/Sets_e_Dicionarios/Continuando_com_Collections.ipynb\" target=\"_parent\"><img src=\"https://colab.research.google.com/assets/colab-badge.svg\" alt=\"Open In Colab\"/></a>"
      ]
    },
    {
      "cell_type": "markdown",
      "source": [
        "# Sets"
      ],
      "metadata": {
        "id": "E9RqiV5QXr9W"
      }
    },
    {
      "cell_type": "code",
      "execution_count": null,
      "metadata": {
        "id": "OhnzNQNuWsUw"
      },
      "outputs": [],
      "source": [
        "usuarios_data_science = [15, 23, 43, 56]\n",
        "usuarios_machine_learning = [13, 23, 56, 42]"
      ]
    },
    {
      "cell_type": "markdown",
      "source": [
        "**Interseção de Listas**\n",
        "\n",
        "Aqui, a lista \"assistiram\" está juntano os dados das listas \"usuarios_data_science\" e \"usuarios_machine_learning\". Como há dados em comum nas listas (interseção), a lista \"assistiram\" irá ficar com dados duplicados.\n",
        "\n",
        "No caso de ser necessário enviar um e-mail ou mensagem para todos os dados da lista, os clientes com dados duplicados receberiam dois e-mails. E não é isso que queremos."
      ],
      "metadata": {
        "id": "2Q-Fyj3LXwXF"
      }
    },
    {
      "cell_type": "code",
      "source": [
        "assistiram = usuarios_data_science.copy()\n",
        "assistiram.extend(usuarios_machine_learning)\n",
        "assistiram"
      ],
      "metadata": {
        "colab": {
          "base_uri": "https://localhost:8080/"
        },
        "id": "XoW1X0mVXAYw",
        "outputId": "e7885033-cf72-445b-e901-932e5a22ea5c"
      },
      "execution_count": null,
      "outputs": [
        {
          "output_type": "execute_result",
          "data": {
            "text/plain": [
              "[15, 23, 43, 56, 13, 23, 56, 42]"
            ]
          },
          "metadata": {},
          "execution_count": 2
        }
      ]
    },
    {
      "cell_type": "code",
      "source": [
        "len(assistiram)"
      ],
      "metadata": {
        "colab": {
          "base_uri": "https://localhost:8080/"
        },
        "id": "xTeh2pNOXmKI",
        "outputId": "8777d581-cbbe-4e83-b8fb-c52e97827daf"
      },
      "execution_count": null,
      "outputs": [
        {
          "output_type": "execute_result",
          "data": {
            "text/plain": [
              "8"
            ]
          },
          "metadata": {},
          "execution_count": 3
        }
      ]
    },
    {
      "cell_type": "markdown",
      "source": [
        "**Set**\n",
        "\n",
        "Os conjuntos (sets) são denotados por chaves {  }. Neles, os itens são únicos (não há duplicatas) e também não existe índice, pois a ordem não importa."
      ],
      "metadata": {
        "id": "hoVHkkQjYq1q"
      }
    },
    {
      "cell_type": "code",
      "source": [
        "set(assistiram)\n"
      ],
      "metadata": {
        "colab": {
          "base_uri": "https://localhost:8080/"
        },
        "id": "0cixJvKAXnwH",
        "outputId": "5bd1114a-5289-4053-9701-c32d14496985"
      },
      "execution_count": null,
      "outputs": [
        {
          "output_type": "execute_result",
          "data": {
            "text/plain": [
              "{13, 15, 23, 42, 43, 56}"
            ]
          },
          "metadata": {},
          "execution_count": 8
        }
      ]
    },
    {
      "cell_type": "code",
      "source": [
        "set_1 = {13, 14, 20, 29, 32, 14, 20}\n",
        "print(set_1)"
      ],
      "metadata": {
        "id": "RQlqKMF5Y2eZ"
      },
      "execution_count": null,
      "outputs": []
    },
    {
      "cell_type": "code",
      "source": [
        "for usuario in set(assistiram):\n",
        "  print(usuario)"
      ],
      "metadata": {
        "colab": {
          "base_uri": "https://localhost:8080/"
        },
        "id": "J9129UkZZJgo",
        "outputId": "05a22818-c243-4f14-b33a-136efea3c6a1"
      },
      "execution_count": null,
      "outputs": [
        {
          "output_type": "stream",
          "name": "stdout",
          "text": [
            "42\n",
            "43\n",
            "13\n",
            "15\n",
            "23\n",
            "56\n"
          ]
        }
      ]
    },
    {
      "cell_type": "code",
      "source": [
        "# for pos, usuario in set(assistiram):\n",
        "# print(pos, usuario)\n",
        "\n",
        "# O enumerate não funciona pois os sets não possuem índice.\n",
        "# Entretanto, é possível usar um for apenas para print.\n",
        "\n",
        "for usuario in set(assistiram):\n",
        "  print(usuario)"
      ],
      "metadata": {
        "colab": {
          "base_uri": "https://localhost:8080/"
        },
        "id": "J2c0Bf2VZXHr",
        "outputId": "73252726-32f1-4617-ac48-57b623deb585"
      },
      "execution_count": null,
      "outputs": [
        {
          "output_type": "stream",
          "name": "stdout",
          "text": [
            "42\n",
            "43\n",
            "13\n",
            "15\n",
            "23\n",
            "56\n"
          ]
        }
      ]
    },
    {
      "cell_type": "markdown",
      "source": [
        "# Operações de Sets\n",
        "\n",
        "Lembrando que os sets não possuem valores repetidos."
      ],
      "metadata": {
        "id": "zIW71faWa3Vu"
      }
    },
    {
      "cell_type": "markdown",
      "source": [
        "**OR**\n",
        "\n",
        "O operador | (ou) é o equivalente a: União (A, B)."
      ],
      "metadata": {
        "id": "f-ItPdRVZzGu"
      }
    },
    {
      "cell_type": "code",
      "source": [
        "usuarios_data_science = {15, 23, 43, 56}\n",
        "usuarios_machine_learning = {13, 23, 56, 42}\n",
        "\n",
        "usuarios_data_science | usuarios_machine_learning"
      ],
      "metadata": {
        "colab": {
          "base_uri": "https://localhost:8080/"
        },
        "id": "cbnMflX5Zp9Y",
        "outputId": "bf5c5872-f1d4-473b-eed8-ef3afd1a5588"
      },
      "execution_count": null,
      "outputs": [
        {
          "output_type": "execute_result",
          "data": {
            "text/plain": [
              "{13, 15, 23, 42, 43, 56}"
            ]
          },
          "metadata": {},
          "execution_count": 14
        }
      ]
    },
    {
      "cell_type": "markdown",
      "source": [
        "**AND**\n",
        "\n",
        "O operador & (e) é o equivalente a: Interseção (A,B)."
      ],
      "metadata": {
        "id": "yo7IQmOkeDOQ"
      }
    },
    {
      "cell_type": "code",
      "source": [
        "usuarios_data_science & usuarios_machine_learning"
      ],
      "metadata": {
        "colab": {
          "base_uri": "https://localhost:8080/"
        },
        "id": "AoHYaTvSZyvu",
        "outputId": "952e9a62-7db9-41b6-9a9a-1dbe233281f1"
      },
      "execution_count": null,
      "outputs": [
        {
          "output_type": "execute_result",
          "data": {
            "text/plain": [
              "{23, 56}"
            ]
          },
          "metadata": {},
          "execution_count": 15
        }
      ]
    },
    {
      "cell_type": "markdown",
      "source": [
        "**MINUS**\n",
        "\n",
        "O operator - (menos) é o equivalente a: A - B."
      ],
      "metadata": {
        "id": "e21y6FX8e1BJ"
      }
    },
    {
      "cell_type": "code",
      "source": [
        "usuarios_data_science - usuarios_machine_learning"
      ],
      "metadata": {
        "colab": {
          "base_uri": "https://localhost:8080/"
        },
        "id": "um_rdarSe1To",
        "outputId": "1f281fee-6da1-4a1e-88b6-22b56a0c9879"
      },
      "execution_count": null,
      "outputs": [
        {
          "output_type": "execute_result",
          "data": {
            "text/plain": [
              "{15, 43}"
            ]
          },
          "metadata": {},
          "execution_count": 16
        }
      ]
    },
    {
      "cell_type": "markdown",
      "source": [
        "**XOR**\n",
        "\n",
        "O operador ^ (EXCLUSIVE OR) é o equivalente a: A + B - Interseção (A, B)."
      ],
      "metadata": {
        "id": "mLnnzPxifPW7"
      }
    },
    {
      "cell_type": "code",
      "source": [
        "usuarios_data_science ^ usuarios_machine_learning"
      ],
      "metadata": {
        "colab": {
          "base_uri": "https://localhost:8080/"
        },
        "id": "cr3vPXWhfLOF",
        "outputId": "f5d78191-b45f-4991-edb7-7bab571d479b"
      },
      "execution_count": null,
      "outputs": [
        {
          "output_type": "execute_result",
          "data": {
            "text/plain": [
              "{13, 15, 42, 43}"
            ]
          },
          "metadata": {},
          "execution_count": 18
        }
      ]
    },
    {
      "cell_type": "markdown",
      "source": [
        "**ADD**\n",
        "\n",
        "O add é o equivalente de appends para os sets. Entretanto, como nos sets não existe uma ordem, ele não é adicional ao final como o appends."
      ],
      "metadata": {
        "id": "wHApFb86x_aJ"
      }
    },
    {
      "cell_type": "code",
      "source": [
        "usuarios = {1, 5, 76, 34, 52, 13, 17}\n",
        "len(usuarios)"
      ],
      "metadata": {
        "colab": {
          "base_uri": "https://localhost:8080/"
        },
        "id": "5Qluk_alwvHp",
        "outputId": "ca2bb938-6a57-4927-ecbf-52a57a2d759e"
      },
      "execution_count": null,
      "outputs": [
        {
          "output_type": "execute_result",
          "data": {
            "text/plain": [
              "7"
            ]
          },
          "metadata": {},
          "execution_count": 19
        }
      ]
    },
    {
      "cell_type": "markdown",
      "source": [],
      "metadata": {
        "id": "QX6YfTisyMOd"
      }
    },
    {
      "cell_type": "code",
      "source": [
        "usuarios.add(13)\n",
        "len(usuarios)\n",
        "\n",
        "# O tamanho continua o mesmo, pois o 13 já estava no set."
      ],
      "metadata": {
        "colab": {
          "base_uri": "https://localhost:8080/"
        },
        "id": "AYUlmw8Xwz8T",
        "outputId": "d2074ab7-fe8d-4af4-db2e-80bd551630b9"
      },
      "execution_count": null,
      "outputs": [
        {
          "output_type": "execute_result",
          "data": {
            "text/plain": [
              "7"
            ]
          },
          "metadata": {},
          "execution_count": 21
        }
      ]
    },
    {
      "cell_type": "code",
      "source": [
        "usuarios.add(765)\n",
        "len(usuarios)\n",
        "\n",
        "# Agora com um número diferente, o tamanho aumenta."
      ],
      "metadata": {
        "colab": {
          "base_uri": "https://localhost:8080/"
        },
        "id": "11ynZ5cRxBBh",
        "outputId": "e26d8f0d-3be2-44c8-bb2c-49ff5ae7f7c1"
      },
      "execution_count": null,
      "outputs": [
        {
          "output_type": "execute_result",
          "data": {
            "text/plain": [
              "8"
            ]
          },
          "metadata": {},
          "execution_count": 23
        }
      ]
    },
    {
      "cell_type": "markdown",
      "source": [
        "**Frozenset**\n",
        "\n",
        "O frozensent \"congela\" o set, dessa forma não é possível realizar alterações."
      ],
      "metadata": {
        "id": "pzIpgfd1yUUC"
      }
    },
    {
      "cell_type": "code",
      "source": [
        "usuarios = frozenset(usuarios)\n",
        "usuarios"
      ],
      "metadata": {
        "colab": {
          "base_uri": "https://localhost:8080/"
        },
        "id": "ESPW2u8hxKp_",
        "outputId": "174986aa-adaf-44d4-9bc6-73ff228cfad7"
      },
      "execution_count": null,
      "outputs": [
        {
          "output_type": "execute_result",
          "data": {
            "text/plain": [
              "frozenset({1, 5, 13, 17, 34, 52, 76, 765})"
            ]
          },
          "metadata": {},
          "execution_count": 24
        }
      ]
    },
    {
      "cell_type": "code",
      "source": [
        "type(usuarios)"
      ],
      "metadata": {
        "colab": {
          "base_uri": "https://localhost:8080/"
        },
        "id": "ELeROLbaxSSj",
        "outputId": "5c16999b-2b9c-4e10-b544-4ed1bebc910f"
      },
      "execution_count": null,
      "outputs": [
        {
          "output_type": "execute_result",
          "data": {
            "text/plain": [
              "frozenset"
            ]
          },
          "metadata": {},
          "execution_count": 25
        }
      ]
    },
    {
      "cell_type": "code",
      "source": [
        "# usuarios.add(134)\n",
        "# não funciona porque é do tipo frozen set"
      ],
      "metadata": {
        "id": "BFJQbv52xVLN"
      },
      "execution_count": null,
      "outputs": []
    },
    {
      "cell_type": "markdown",
      "source": [
        "**O set não é só inteiro**\n",
        "\n",
        "Também podemos utilizar strings, números flutuantes e outros."
      ],
      "metadata": {
        "id": "Z_ruVC3OydHO"
      }
    },
    {
      "cell_type": "code",
      "source": [
        "meu_texto = \"Bem vindo meu nome é Guilherme eu gosto muito de nomes e tenho o meu cachorro e gosto muito de cachorro\""
      ],
      "metadata": {
        "id": "PwS8GYwixte-"
      },
      "execution_count": null,
      "outputs": []
    },
    {
      "cell_type": "code",
      "source": [
        "set(meu_texto.split())"
      ],
      "metadata": {
        "colab": {
          "base_uri": "https://localhost:8080/"
        },
        "id": "5dimsOdtxx_I",
        "outputId": "b11fb1fb-5074-49bd-c491-2a7b18f0378d"
      },
      "execution_count": null,
      "outputs": [
        {
          "output_type": "execute_result",
          "data": {
            "text/plain": [
              "{'Bem',\n",
              " 'Guilherme',\n",
              " 'cachorro',\n",
              " 'de',\n",
              " 'e',\n",
              " 'eu',\n",
              " 'gosto',\n",
              " 'meu',\n",
              " 'muito',\n",
              " 'nome',\n",
              " 'nomes',\n",
              " 'o',\n",
              " 'tenho',\n",
              " 'vindo',\n",
              " 'é'}"
            ]
          },
          "metadata": {},
          "execution_count": 28
        }
      ]
    },
    {
      "cell_type": "markdown",
      "source": [
        "# Dicionários\n",
        "\n",
        "Os dicionários são feitos no seguinte esquema:\n",
        "\n",
        "     dicionario = {\n",
        "        key : value,\n",
        "     }"
      ],
      "metadata": {
        "id": "s6tKQAvayqcl"
      }
    },
    {
      "cell_type": "code",
      "source": [
        "aparicoes = {\n",
        "    \"Guilherme\" : 1,\n",
        "    \"cachorro\" : 2,\n",
        "    \"nome\" : 2,\n",
        "    \"vindo\" : 1\n",
        "}\n",
        "\n",
        "type(aparicoes)"
      ],
      "metadata": {
        "colab": {
          "base_uri": "https://localhost:8080/"
        },
        "id": "seakur7oys5x",
        "outputId": "11fd47e6-d9cd-4b7e-9ab1-1feabd0d39c7"
      },
      "execution_count": null,
      "outputs": [
        {
          "output_type": "execute_result",
          "data": {
            "text/plain": [
              "dict"
            ]
          },
          "metadata": {},
          "execution_count": 35
        }
      ]
    },
    {
      "cell_type": "markdown",
      "source": [
        "**Procurando por Chave**\n",
        "\n",
        "Ao utilizarmos:       \n",
        "    \n",
        "    dicionario[\"Chave\"]\n",
        "\n",
        "o valor dessa chave é retornado."
      ],
      "metadata": {
        "id": "Ye4yhRe-0oZU"
      }
    },
    {
      "cell_type": "code",
      "source": [
        "aparicoes[\"Guilherme\"]"
      ],
      "metadata": {
        "colab": {
          "base_uri": "https://localhost:8080/"
        },
        "id": "djnHMYdM0VNh",
        "outputId": "75e585a5-de88-4a67-95ce-edc35eca3c0f"
      },
      "execution_count": null,
      "outputs": [
        {
          "output_type": "execute_result",
          "data": {
            "text/plain": [
              "1"
            ]
          },
          "metadata": {},
          "execution_count": 36
        }
      ]
    },
    {
      "cell_type": "markdown",
      "source": [
        "**Get**\n",
        "\n",
        "O método get recebe a chave e podemos instanciar o valor 0, assim, se a chave não existir, o método retornará 0. Caso a chave exista, volta o valor dela."
      ],
      "metadata": {
        "id": "A9vmiwzf0_Ec"
      }
    },
    {
      "cell_type": "code",
      "source": [
        "aparicoes.get(\"xpto\", 0)"
      ],
      "metadata": {
        "colab": {
          "base_uri": "https://localhost:8080/"
        },
        "id": "NHaUvEFz1AWG",
        "outputId": "50762b70-b2bf-4f9a-d5dc-9b879648cd0f"
      },
      "execution_count": null,
      "outputs": [
        {
          "output_type": "execute_result",
          "data": {
            "text/plain": [
              "0"
            ]
          },
          "metadata": {},
          "execution_count": 37
        }
      ]
    },
    {
      "cell_type": "code",
      "source": [
        "aparicoes.get(\"cachorro\", 0)"
      ],
      "metadata": {
        "colab": {
          "base_uri": "https://localhost:8080/"
        },
        "id": "p0S2WR6q1U1i",
        "outputId": "4dd45be2-6eb3-42f9-c464-48dedd729495"
      },
      "execution_count": null,
      "outputs": [
        {
          "output_type": "execute_result",
          "data": {
            "text/plain": [
              "2"
            ]
          },
          "metadata": {},
          "execution_count": 38
        }
      ]
    },
    {
      "cell_type": "markdown",
      "source": [
        "**Adicionar, Alterar e Remover**\n"
      ],
      "metadata": {
        "id": "47OiqLAh6vYP"
      }
    },
    {
      "cell_type": "markdown",
      "source": [
        "**Adicionar**\n",
        "\n",
        "Para adicionar apenas colocamos uma chave nova e atribuímos um valor a ela."
      ],
      "metadata": {
        "id": "DA5Gqqqm68DL"
      }
    },
    {
      "cell_type": "code",
      "source": [
        "aparicoes[\"Carlos\"] = 2\n",
        "aparicoes"
      ],
      "metadata": {
        "colab": {
          "base_uri": "https://localhost:8080/"
        },
        "id": "g6m6w-Nl6z_N",
        "outputId": "21f4505a-d462-4106-fe84-a9e4efd95480"
      },
      "execution_count": null,
      "outputs": [
        {
          "output_type": "execute_result",
          "data": {
            "text/plain": [
              "{'Guilherme': 1, 'cachorro': 2, 'nome': 2, 'vindo': 1, 'Carlos': 2}"
            ]
          },
          "metadata": {},
          "execution_count": 39
        }
      ]
    },
    {
      "cell_type": "markdown",
      "source": [
        "**Alterar**\n",
        "\n",
        "Para alterar apenas colocamos a chave existente que queremos mudar e atribuímos um novo valor."
      ],
      "metadata": {
        "id": "fhWDJeag7GbG"
      }
    },
    {
      "cell_type": "code",
      "source": [
        "aparicoes[\"Carlos\"] = 3\n",
        "aparicoes"
      ],
      "metadata": {
        "colab": {
          "base_uri": "https://localhost:8080/"
        },
        "id": "3iAi5f7G7Eaj",
        "outputId": "37d935e4-4941-4d5b-f0ae-2a4a19c7692d"
      },
      "execution_count": null,
      "outputs": [
        {
          "output_type": "execute_result",
          "data": {
            "text/plain": [
              "{'Guilherme': 1, 'cachorro': 2, 'nome': 2, 'vindo': 1, 'Carlos': 3}"
            ]
          },
          "metadata": {},
          "execution_count": 40
        }
      ]
    },
    {
      "cell_type": "markdown",
      "source": [
        "**Remover**\n",
        "\n",
        "Para remover usamos o delete."
      ],
      "metadata": {
        "id": "knreNR0K7WGS"
      }
    },
    {
      "cell_type": "code",
      "source": [
        "del aparicoes[\"Carlos\"]\n",
        "aparicoes"
      ],
      "metadata": {
        "colab": {
          "base_uri": "https://localhost:8080/"
        },
        "id": "1VV9IIl07DPx",
        "outputId": "71cb9d00-4013-404c-f883-d012f1fa6ce6"
      },
      "execution_count": null,
      "outputs": [
        {
          "output_type": "execute_result",
          "data": {
            "text/plain": [
              "{'Guilherme': 1, 'cachorro': 2, 'nome': 2, 'vindo': 1}"
            ]
          },
          "metadata": {},
          "execution_count": 41
        }
      ]
    },
    {
      "cell_type": "markdown",
      "source": [
        "**Verificação**\n",
        "\n",
        "Utilizamos o in para verificar se a chave existe no dicionário."
      ],
      "metadata": {
        "id": "3kkwF0yc7zXV"
      }
    },
    {
      "cell_type": "code",
      "source": [
        "\"cachorro\" in aparicoes\n"
      ],
      "metadata": {
        "colab": {
          "base_uri": "https://localhost:8080/"
        },
        "id": "bpvNFUux7f4C",
        "outputId": "8a6418db-58f7-44f8-c090-1e5d52b17647"
      },
      "execution_count": null,
      "outputs": [
        {
          "output_type": "execute_result",
          "data": {
            "text/plain": [
              "True"
            ]
          },
          "metadata": {},
          "execution_count": 42
        }
      ]
    },
    {
      "cell_type": "code",
      "source": [
        "\"Carlos\" in aparicoes"
      ],
      "metadata": {
        "colab": {
          "base_uri": "https://localhost:8080/"
        },
        "id": "tvTebj9-7h36",
        "outputId": "4ae6bbe7-a35e-48a5-a233-0ceea7d6b00d"
      },
      "execution_count": null,
      "outputs": [
        {
          "output_type": "execute_result",
          "data": {
            "text/plain": [
              "False"
            ]
          },
          "metadata": {},
          "execution_count": 43
        }
      ]
    },
    {
      "cell_type": "markdown",
      "source": [
        "**Iteração nos Dicionários**"
      ],
      "metadata": {
        "id": "aXaQfMNS7_Lv"
      }
    },
    {
      "cell_type": "markdown",
      "source": [
        "**Diretamente pelo Dicionário**\n",
        "\n"
      ],
      "metadata": {
        "id": "hXDuYTx881_R"
      }
    },
    {
      "cell_type": "code",
      "source": [
        "for elemento in aparicoes:\n",
        "  print(elemento)"
      ],
      "metadata": {
        "colab": {
          "base_uri": "https://localhost:8080/"
        },
        "id": "TQ0rZfYP77sc",
        "outputId": "115379ae-730f-41af-ebb4-ef26bbb11028"
      },
      "execution_count": null,
      "outputs": [
        {
          "output_type": "stream",
          "name": "stdout",
          "text": [
            "Guilherme\n",
            "cachorro\n",
            "nome\n",
            "vindo\n"
          ]
        }
      ]
    },
    {
      "cell_type": "markdown",
      "source": [
        "**Pelas Chaves**"
      ],
      "metadata": {
        "id": "_r_REN3N9H0-"
      }
    },
    {
      "cell_type": "code",
      "source": [
        "for elemento in aparicoes.keys():\n",
        "  print(elemento)"
      ],
      "metadata": {
        "colab": {
          "base_uri": "https://localhost:8080/"
        },
        "id": "zatcaLX08Cf7",
        "outputId": "713a0ab6-3192-4817-c1a1-ae674dd1b7ef"
      },
      "execution_count": null,
      "outputs": [
        {
          "output_type": "stream",
          "name": "stdout",
          "text": [
            "Guilherme\n",
            "cachorro\n",
            "nome\n",
            "vindo\n"
          ]
        }
      ]
    },
    {
      "cell_type": "markdown",
      "source": [
        "**Pelos Valores**"
      ],
      "metadata": {
        "id": "i-q54RtF9PYx"
      }
    },
    {
      "cell_type": "code",
      "source": [
        "for elemento in aparicoes.values():\n",
        "  print(elemento)"
      ],
      "metadata": {
        "colab": {
          "base_uri": "https://localhost:8080/"
        },
        "id": "oL1-P0v09MdM",
        "outputId": "aa7d0b4f-2ad3-4dae-ac51-38576b468626"
      },
      "execution_count": null,
      "outputs": [
        {
          "output_type": "stream",
          "name": "stdout",
          "text": [
            "1\n",
            "2\n",
            "2\n",
            "1\n"
          ]
        }
      ]
    },
    {
      "cell_type": "markdown",
      "source": [
        "**Chaves e Valores**"
      ],
      "metadata": {
        "id": "ToTZss4N9Ukk"
      }
    },
    {
      "cell_type": "code",
      "source": [
        "for elemento in aparicoes.items():\n",
        "  print(elemento)"
      ],
      "metadata": {
        "colab": {
          "base_uri": "https://localhost:8080/"
        },
        "id": "oWJQs2fi9W64",
        "outputId": "89083d3d-f481-4e44-abb0-1cdf79617c98"
      },
      "execution_count": null,
      "outputs": [
        {
          "output_type": "stream",
          "name": "stdout",
          "text": [
            "('Guilherme', 1)\n",
            "('cachorro', 2)\n",
            "('nome', 2)\n",
            "('vindo', 1)\n"
          ]
        }
      ]
    },
    {
      "cell_type": "code",
      "source": [
        "for chave, valor in aparicoes.items():\n",
        "  print(chave, \"=\", valor)\n",
        "\n",
        "# Já podemos desempacotar diretamente dessa forma"
      ],
      "metadata": {
        "colab": {
          "base_uri": "https://localhost:8080/"
        },
        "id": "pzPFvQzN9gw3",
        "outputId": "8a5ff1dd-92a2-409a-e0b5-ceb4d0c33c4d"
      },
      "execution_count": null,
      "outputs": [
        {
          "output_type": "stream",
          "name": "stdout",
          "text": [
            "Guilherme = 1\n",
            "cachorro = 2\n",
            "nome = 2\n",
            "vindo = 1\n"
          ]
        }
      ]
    },
    {
      "cell_type": "markdown",
      "source": [
        "**List Comprehension**"
      ],
      "metadata": {
        "id": "RW_GwK_h93MN"
      }
    },
    {
      "cell_type": "code",
      "source": [
        "[\"palavra {}\".format(chave) for chave in aparicoes.keys()]"
      ],
      "metadata": {
        "colab": {
          "base_uri": "https://localhost:8080/"
        },
        "id": "Euuyxcsg95am",
        "outputId": "9cc074bc-2206-4fb3-acc2-03a56b34c00a"
      },
      "execution_count": null,
      "outputs": [
        {
          "output_type": "execute_result",
          "data": {
            "text/plain": [
              "['palavra Guilherme', 'palavra cachorro', 'palavra nome', 'palavra vindo']"
            ]
          },
          "metadata": {},
          "execution_count": 49
        }
      ]
    }
  ]
}