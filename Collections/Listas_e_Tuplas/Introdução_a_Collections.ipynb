{
  "nbformat": 4,
  "nbformat_minor": 0,
  "metadata": {
    "colab": {
      "provenance": [],
      "authorship_tag": "ABX9TyOvUr9hTGD9HcB3iieN7SR4",
      "include_colab_link": true
    },
    "kernelspec": {
      "name": "python3",
      "display_name": "Python 3"
    },
    "language_info": {
      "name": "python"
    }
  },
  "cells": [
    {
      "cell_type": "markdown",
      "metadata": {
        "id": "view-in-github",
        "colab_type": "text"
      },
      "source": [
        "<a href=\"https://colab.research.google.com/github/Vinicius203/Python_Alura/blob/master/Collections/Listas_e_Tuplas/Introdu%C3%A7%C3%A3o_a_Collections.ipynb\" target=\"_parent\"><img src=\"https://colab.research.google.com/assets/colab-badge.svg\" alt=\"Open In Colab\"/></a>"
      ]
    },
    {
      "cell_type": "markdown",
      "source": [
        "# Introdução a Listas\n",
        "\n",
        "* Introdução a Listas\n",
        "* Append, Remove, Insert, Extends\n",
        "* List Comprehension\n",
        "* Mutabilidade\n"
      ],
      "metadata": {
        "id": "EK_3lCjNbkZo"
      }
    },
    {
      "cell_type": "markdown",
      "source": [
        "**Valores em diferentes variáveis**\n"
      ],
      "metadata": {
        "id": "jqVt_g5NW0N6"
      }
    },
    {
      "cell_type": "code",
      "execution_count": null,
      "metadata": {
        "id": "XyGu_GMcUnBa",
        "colab": {
          "base_uri": "https://localhost:8080/"
        },
        "outputId": "24e3cce5-abd3-4f42-8df1-3a9991099677"
      },
      "outputs": [
        {
          "output_type": "stream",
          "name": "stdout",
          "text": [
            "39 30 27\n"
          ]
        }
      ],
      "source": [
        "idade1 = 39\n",
        "idade2 = 30\n",
        "idade3 = 27\n",
        "\n",
        "print(idade1, idade2, idade3)"
      ]
    },
    {
      "cell_type": "markdown",
      "source": [
        "**Listas**"
      ],
      "metadata": {
        "id": "4G7k_kzVXC4R"
      }
    },
    {
      "cell_type": "code",
      "source": [
        "idades = [39, 30, 27]\n",
        "print(type(idades), idades)"
      ],
      "metadata": {
        "id": "708E1vmzWeaW",
        "outputId": "fc66f56b-ce2f-4b08-aa30-8114f92a5875",
        "colab": {
          "base_uri": "https://localhost:8080/"
        }
      },
      "execution_count": null,
      "outputs": [
        {
          "output_type": "stream",
          "name": "stdout",
          "text": [
            "<class 'list'> [39, 30, 27]\n"
          ]
        }
      ]
    },
    {
      "cell_type": "code",
      "source": [
        "print(idades)\n",
        "print(idades[0])\n",
        "print(idades[1])\n",
        "print(idades[2])"
      ],
      "metadata": {
        "id": "O2eX2n-TW7-J",
        "outputId": "32cd9010-df16-4b39-fe3f-0e1a0b1d5fd5",
        "colab": {
          "base_uri": "https://localhost:8080/"
        }
      },
      "execution_count": null,
      "outputs": [
        {
          "output_type": "stream",
          "name": "stdout",
          "text": [
            "[39, 30, 27]\n",
            "39\n",
            "30\n",
            "27\n"
          ]
        }
      ]
    },
    {
      "cell_type": "markdown",
      "source": [
        "**Append**\n",
        "\n",
        "O append adiciona um elemento ao final da lista.\n",
        "\n"
      ],
      "metadata": {
        "id": "9Op_vhqaXP3V"
      }
    },
    {
      "cell_type": "code",
      "source": [
        "idades.append(20)\n",
        "print(idades)"
      ],
      "metadata": {
        "id": "usq0AjGoXPLi",
        "outputId": "05e50951-5441-46e6-9b1a-331ccd5947e4",
        "colab": {
          "base_uri": "https://localhost:8080/"
        }
      },
      "execution_count": null,
      "outputs": [
        {
          "output_type": "stream",
          "name": "stdout",
          "text": [
            "[39, 30, 27, 20]\n"
          ]
        }
      ]
    },
    {
      "cell_type": "markdown",
      "source": [
        "**Remove**\n",
        "\n",
        "O remove exclui o primeiro caso de aparição do elemento."
      ],
      "metadata": {
        "id": "yWTtbNEgYG53"
      }
    },
    {
      "cell_type": "code",
      "source": [
        "idades.remove(30)\n",
        "print(idades)\n",
        "\n",
        "idades.append(20)\n",
        "print(idades)\n",
        "idades.remove(20)\n",
        "print(idades)"
      ],
      "metadata": {
        "id": "ftAF7jmXWyux",
        "outputId": "7cc238d3-a365-4120-b9b9-2eb70d9666ee",
        "colab": {
          "base_uri": "https://localhost:8080/"
        }
      },
      "execution_count": null,
      "outputs": [
        {
          "output_type": "stream",
          "name": "stdout",
          "text": [
            "[39, 27, 20]\n",
            "[39, 27, 20, 20]\n",
            "[39, 27, 20]\n"
          ]
        }
      ]
    },
    {
      "cell_type": "markdown",
      "source": [
        "**Insert**\n",
        "\n",
        "O insert insere um valor da seguinte maneira: lista.insert(x, y)\n",
        "\n",
        "Onde:\n",
        "\n",
        "x - posição onde o valor será inserado                                    \n",
        "y - valor"
      ],
      "metadata": {
        "id": "Jt1rC3i5YqY_"
      }
    },
    {
      "cell_type": "code",
      "source": [
        "idades.insert(0, 13)\n",
        "print(idades)"
      ],
      "metadata": {
        "id": "Y0qP5g8LYGcV",
        "outputId": "2fa2f406-eb20-42af-d046-54c6fc8b6610",
        "colab": {
          "base_uri": "https://localhost:8080/"
        }
      },
      "execution_count": null,
      "outputs": [
        {
          "output_type": "stream",
          "name": "stdout",
          "text": [
            "[13, 39, 27, 20]\n"
          ]
        }
      ]
    },
    {
      "cell_type": "markdown",
      "source": [
        "**Extends**\n",
        "\n",
        "Essa função adiciona uma lista à lista original"
      ],
      "metadata": {
        "id": "Z0xGRPJFZeqa"
      }
    },
    {
      "cell_type": "code",
      "source": [
        "idades =  [20, 39, 18]\n",
        "idades.extend([13, 21])\n",
        "print(idades)\n",
        "\n",
        "idade_adicional = [1, 93]\n",
        "idades.extend(idade_adicional)\n",
        "print(idades)"
      ],
      "metadata": {
        "id": "7iKQQzamZAE-",
        "outputId": "6e7e8fc9-c2e7-4e7b-e36c-0939ce64d308",
        "colab": {
          "base_uri": "https://localhost:8080/"
        }
      },
      "execution_count": null,
      "outputs": [
        {
          "output_type": "stream",
          "name": "stdout",
          "text": [
            "[20, 39, 18, 13, 21]\n",
            "[20, 39, 18, 13, 21, 1, 93]\n"
          ]
        }
      ]
    },
    {
      "cell_type": "markdown",
      "source": [
        "**Não usando List Comprehension**\n",
        "\n",
        "Como criar uma lista a partir de outra da forma mais longa, podemos até dizer \"incorreta\"."
      ],
      "metadata": {
        "id": "OTXzirGIaK8P"
      }
    },
    {
      "cell_type": "code",
      "source": [
        "idades_no_ano_que_vem = []\n",
        "\n",
        "for idade in idades:\n",
        "  idades_no_ano_que_vem.append(idade + 1)\n",
        "\n",
        "print(idades_no_ano_que_vem)"
      ],
      "metadata": {
        "id": "ECP1KUjXZACX",
        "outputId": "0816d7af-8a62-4537-94f0-a7d0daa14573",
        "colab": {
          "base_uri": "https://localhost:8080/"
        }
      },
      "execution_count": null,
      "outputs": [
        {
          "output_type": "stream",
          "name": "stdout",
          "text": [
            "[21, 40, 19, 14, 22, 2, 94]\n"
          ]
        }
      ]
    },
    {
      "cell_type": "markdown",
      "source": [
        "**List Comprehension**\n",
        "\n",
        "Podemos utilizar list comprehension para termos os mesmos resultados em uma forma muito mais simples."
      ],
      "metadata": {
        "id": "znlpk1bwapeZ"
      }
    },
    {
      "cell_type": "code",
      "source": [
        "idades_no_ano_que_vem = [(idade+2) for idade in idades]\n",
        "print(idades_no_ano_que_vem)"
      ],
      "metadata": {
        "id": "euayO4LXaJQu",
        "outputId": "c0c773b6-a873-4fdd-85cc-8729d1430f36",
        "colab": {
          "base_uri": "https://localhost:8080/"
        }
      },
      "execution_count": null,
      "outputs": [
        {
          "output_type": "stream",
          "name": "stdout",
          "text": [
            "[22, 41, 20, 15, 23, 3, 95]\n"
          ]
        }
      ]
    },
    {
      "cell_type": "code",
      "source": [
        "idades = [20, 39, 18, 27, 19]\n",
        "\n",
        "print(\"Idades:\", idades)\n",
        "# idades maiores que 22 com list comprehension\n",
        "print([idade for idade in idades if idade > 22])"
      ],
      "metadata": {
        "id": "YGW6mQw_W58S",
        "outputId": "958847fe-f750-4041-e27a-aee1165a2d31",
        "colab": {
          "base_uri": "https://localhost:8080/"
        }
      },
      "execution_count": null,
      "outputs": [
        {
          "output_type": "stream",
          "name": "stdout",
          "text": [
            "Idades: [20, 39, 18, 27, 19]\n",
            "[39, 27]\n"
          ]
        }
      ]
    },
    {
      "cell_type": "code",
      "source": [
        "# Também podemos utilizar funções parar melhorar a legibidade da lista comprehension\n",
        "def proximo_ano(idade):\n",
        "  return idade+1\n",
        "\n",
        "idades = [20, 39, 18, 27, 19]\n",
        "\n",
        "[proximo_ano(idade) for idade in idades if idade > 21]"
      ],
      "metadata": {
        "id": "Jf3CjU5qbdgY",
        "outputId": "06558054-1958-4ec3-feab-14ff3c2668ae",
        "colab": {
          "base_uri": "https://localhost:8080/"
        }
      },
      "execution_count": null,
      "outputs": [
        {
          "output_type": "execute_result",
          "data": {
            "text/plain": [
              "[40, 28]"
            ]
          },
          "metadata": {},
          "execution_count": 121
        }
      ]
    },
    {
      "cell_type": "markdown",
      "source": [
        "**Mutabilidade**\n",
        "\n",
        "É necessário tomar muito cuidado ao se trabalhar com listas, já que a classe lista é mutável.\n",
        "\n",
        "\n",
        "\n",
        "Ao passar uma lista da forma incorreta como parâmetro, ela pode retornar com valores totalmente diferentes do esperado."
      ],
      "metadata": {
        "id": "i84_o4HccnZE"
      }
    },
    {
      "cell_type": "code",
      "source": [
        "def faz_processamento_de_visualizacao(lista):\n",
        "  print(len(lista))\n",
        "  lista.append(13)"
      ],
      "metadata": {
        "id": "jXF8IGyUcyJB"
      },
      "execution_count": null,
      "outputs": []
    },
    {
      "cell_type": "code",
      "source": [
        "idades = [16, 21, 29, 56, 43]\n",
        "\n",
        "faz_processamento_de_visualizacao(idades)\n",
        "\n",
        "idades"
      ],
      "metadata": {
        "id": "LDVEqH2DcqVB",
        "outputId": "80ad0ddc-e246-4399-dee4-3fa7846c59dd",
        "colab": {
          "base_uri": "https://localhost:8080/"
        }
      },
      "execution_count": null,
      "outputs": [
        {
          "output_type": "stream",
          "name": "stdout",
          "text": [
            "5\n"
          ]
        },
        {
          "output_type": "execute_result",
          "data": {
            "text/plain": [
              "[16, 21, 29, 56, 43, 13]"
            ]
          },
          "metadata": {},
          "execution_count": 123
        }
      ]
    },
    {
      "cell_type": "markdown",
      "source": [
        "**FORMA INCORRETA**\n"
      ],
      "metadata": {
        "id": "7V3TpzwteowD"
      }
    },
    {
      "cell_type": "code",
      "source": [
        "def faz_processamento_de_visualizacao(lista = []):\n",
        "  print(len(lista))\n",
        "  lista.append(13)"
      ],
      "metadata": {
        "id": "bxzAmPLjdiq4"
      },
      "execution_count": null,
      "outputs": []
    },
    {
      "cell_type": "code",
      "source": [
        "faz_processamento_de_visualizacao()\n",
        "\n",
        "# printa 0"
      ],
      "metadata": {
        "id": "cAeDlpwMdjFZ",
        "outputId": "c71b5b54-cf1f-40e0-899f-12e7b2cad087",
        "colab": {
          "base_uri": "https://localhost:8080/"
        }
      },
      "execution_count": null,
      "outputs": [
        {
          "output_type": "stream",
          "name": "stdout",
          "text": [
            "0\n"
          ]
        }
      ]
    },
    {
      "cell_type": "code",
      "source": [
        "faz_processamento_de_visualizacao()\n",
        "\n",
        "# printa 1"
      ],
      "metadata": {
        "id": "arl1LHUudpUF",
        "outputId": "45986233-2a73-40c2-8205-996ab9fd2888",
        "colab": {
          "base_uri": "https://localhost:8080/"
        }
      },
      "execution_count": null,
      "outputs": [
        {
          "output_type": "stream",
          "name": "stdout",
          "text": [
            "1\n"
          ]
        }
      ]
    },
    {
      "cell_type": "code",
      "source": [
        "faz_processamento_de_visualizacao()\n",
        "\n",
        "# printa 2"
      ],
      "metadata": {
        "id": "sn7C-46xdpJn",
        "outputId": "c29a68f6-2a7b-4653-b855-86af7d115e26",
        "colab": {
          "base_uri": "https://localhost:8080/"
        }
      },
      "execution_count": null,
      "outputs": [
        {
          "output_type": "stream",
          "name": "stdout",
          "text": [
            "2\n"
          ]
        }
      ]
    },
    {
      "cell_type": "markdown",
      "source": [
        "**FORMA CORRETA**"
      ],
      "metadata": {
        "id": "mac74uxaesHD"
      }
    },
    {
      "cell_type": "code",
      "source": [
        "def faz_processamento_de_visualizacao(lista = None):\n",
        "  if lista == None:\n",
        "    lista = list()\n",
        "  print(len(lista))\n",
        "  print(lista)\n",
        "  lista.append(13)"
      ],
      "metadata": {
        "id": "gxt3e4STepSs"
      },
      "execution_count": null,
      "outputs": []
    },
    {
      "cell_type": "code",
      "source": [
        "faz_processamento_de_visualizacao()\n",
        "faz_processamento_de_visualizacao()\n",
        "faz_processamento_de_visualizacao()\n",
        "faz_processamento_de_visualizacao()"
      ],
      "metadata": {
        "id": "nZldIESSe3YD",
        "outputId": "15395f09-aead-45ae-fafc-09eadc00787d",
        "colab": {
          "base_uri": "https://localhost:8080/"
        }
      },
      "execution_count": null,
      "outputs": [
        {
          "output_type": "stream",
          "name": "stdout",
          "text": [
            "0\n",
            "[]\n",
            "0\n",
            "[]\n",
            "0\n",
            "[]\n",
            "0\n",
            "[]\n"
          ]
        }
      ]
    },
    {
      "cell_type": "markdown",
      "source": [
        "# Objetos próprios e Tuplas\n",
        "\n",
        "* Utilização de POO\n",
        "* Listas com POO\n",
        "* Tuplas\n",
        "* Lista de Tuplas\n",
        "* Tupla de Listas"
      ],
      "metadata": {
        "id": "rUI5aFe7fu3k"
      }
    },
    {
      "cell_type": "markdown",
      "source": [
        "**Criação de Classe e seus Métodos**"
      ],
      "metadata": {
        "id": "Mcjywwg0kkev"
      }
    },
    {
      "cell_type": "code",
      "source": [
        "class contaCorrente:\n",
        "\n",
        "  def __init__(self, codigo):\n",
        "    self.codigo = codigo\n",
        "    self.saldo = 0\n",
        "\n",
        "  def deposita(self, valor):\n",
        "    self.saldo += valor\n",
        "\n",
        "  def __str__(self):\n",
        "    return (f\"[Código: {self.codigo}, Saldo: {self.saldo}]\")\n",
        "\n"
      ],
      "metadata": {
        "id": "G8m7gVdcfocX"
      },
      "execution_count": 1,
      "outputs": []
    },
    {
      "cell_type": "markdown",
      "source": [
        "**Criação de Objetos**"
      ],
      "metadata": {
        "id": "IflNiIs-kg6e"
      }
    },
    {
      "cell_type": "code",
      "source": [
        "vinicius = contaCorrente(15)\n",
        "print(vinicius)\n",
        "\n",
        "vinicius.deposita(85)\n",
        "print(vinicius)"
      ],
      "metadata": {
        "id": "oXDUJPU1hGG5",
        "outputId": "e8041d18-4f3f-42bc-e530-eab62399fc90",
        "colab": {
          "base_uri": "https://localhost:8080/"
        }
      },
      "execution_count": null,
      "outputs": [
        {
          "output_type": "stream",
          "name": "stdout",
          "text": [
            "[Código: 15, Saldo: 0]\n",
            "[Código: 15, Saldo: 85]\n"
          ]
        }
      ]
    },
    {
      "cell_type": "code",
      "source": [
        "dani = contaCorrente(47685)\n",
        "dani.deposita(1000)\n",
        "print(dani)"
      ],
      "metadata": {
        "id": "eznmavvGkWUm",
        "outputId": "2087ffe3-4489-424f-aa93-dceda8d5542a",
        "colab": {
          "base_uri": "https://localhost:8080/"
        }
      },
      "execution_count": null,
      "outputs": [
        {
          "output_type": "stream",
          "name": "stdout",
          "text": [
            "[Código: 47685, Saldo: 1000]\n"
          ]
        }
      ]
    },
    {
      "cell_type": "markdown",
      "source": [
        "**Criação de Lista de Objetos**"
      ],
      "metadata": {
        "id": "v52k0dz3q-o2"
      }
    },
    {
      "cell_type": "code",
      "source": [
        "contas = [vinicius, dani]\n",
        "\n",
        "for conta in contas:\n",
        "  print(conta)\n",
        "\n",
        "# É necessário tomar cuidado com o seguinte caso:\n",
        "contas = [dani, vinicius, dani]\n",
        "# Nesse caso, a conta da dani foi colocada duas vezes na lista\n",
        "\n",
        "dani.deposita(100)\n",
        "\n",
        "# Ao depositar na conta da dani, o objeto está com o mesmo endereço\n",
        "# das duas posições. Dessa forma, as duas posições recebem o depósito\n",
        "print(contas[0])\n",
        "print(contas[2])\n",
        "print(dani)"
      ],
      "metadata": {
        "id": "mM4rb3tdkfO5",
        "outputId": "b34b78aa-9205-49bf-cf4f-8af366776d99",
        "colab": {
          "base_uri": "https://localhost:8080/"
        }
      },
      "execution_count": null,
      "outputs": [
        {
          "output_type": "stream",
          "name": "stdout",
          "text": [
            "[Código: 15, Saldo: 85]\n",
            "[Código: 47685, Saldo: 1000]\n",
            "[Código: 47685, Saldo: 1100]\n",
            "[Código: 47685, Saldo: 1100]\n",
            "[Código: 47685, Saldo: 1100]\n"
          ]
        }
      ]
    },
    {
      "cell_type": "code",
      "source": [
        "def deposita_para_todas(contas):\n",
        "  for conta in contas:\n",
        "    conta.deposita(100)\n",
        "\n",
        "contas = [vinicius, dani]\n",
        "print(contas[0], contas[1])\n",
        "deposita_para_todas(contas)\n",
        "print(contas[0], contas[1])\n",
        "\n"
      ],
      "metadata": {
        "id": "cygF8ky5spiq",
        "outputId": "7d6eaa91-2374-4084-b7ad-9a88e6255a5e",
        "colab": {
          "base_uri": "https://localhost:8080/"
        }
      },
      "execution_count": null,
      "outputs": [
        {
          "output_type": "stream",
          "name": "stdout",
          "text": [
            "[Código: 15, Saldo: 85] [Código: 47685, Saldo: 1100]\n",
            "[Código: 15, Saldo: 185] [Código: 47685, Saldo: 1200]\n"
          ]
        }
      ]
    },
    {
      "cell_type": "code",
      "source": [
        "# Inserindo o código do banco no ínicio da lista\n",
        "contas.insert(0, 76)\n",
        "print(contas[0], contas[1], contas[2])"
      ],
      "metadata": {
        "id": "uHpMzp4TtgTC",
        "outputId": "8a15bbdb-e02d-4ab4-b557-d8b8bad6632c",
        "colab": {
          "base_uri": "https://localhost:8080/"
        }
      },
      "execution_count": null,
      "outputs": [
        {
          "output_type": "stream",
          "name": "stdout",
          "text": [
            "76 [Código: 15, Saldo: 185] [Código: 47685, Saldo: 1200]\n"
          ]
        }
      ]
    },
    {
      "cell_type": "code",
      "source": [
        "# deposita_para_todas(contas)\n",
        "# A linha acima irá dar erro, pois a posição 0 agora possui um número inteiro.\n",
        "print(contas[0], contas[1], contas[2])"
      ],
      "metadata": {
        "id": "m-h9SJ-QtxLP",
        "outputId": "7c895748-0540-4d82-d171-d208caed4a5f",
        "colab": {
          "base_uri": "https://localhost:8080/"
        }
      },
      "execution_count": null,
      "outputs": [
        {
          "output_type": "stream",
          "name": "stdout",
          "text": [
            "76 [Código: 15, Saldo: 185] [Código: 47685, Saldo: 1200]\n"
          ]
        }
      ]
    },
    {
      "cell_type": "markdown",
      "source": [
        "**Tuplas**\n",
        "\n",
        "Ao trabalharmos com valores em posições fixas, é melhor utilizar tuplas.\n",
        "\n",
        "Isso se deve ao fato de tuplas serem imutáveis. Ou seja, não há funções como append, remove, insert.\n",
        "\n",
        "objeto = ['X', Y, Z]\n",
        "\n",
        "x - nome\n",
        "\n",
        "\n",
        "y - idade\n",
        "\n",
        "\n",
        "z - ano de nascimento"
      ],
      "metadata": {
        "id": "gX64yx7xuk0p"
      }
    },
    {
      "cell_type": "code",
      "source": [
        "vinicius = ('Vinicius', 21, 2001)\n",
        "matheus = ('Matheus', 18, 2005)\n",
        "\n",
        "# paulo = (39, 'Paulo', 1979)\n",
        "# A linha acima é inaceitável pois estou fugindo da própria regra que\n",
        "# criei, isso se deve ao fato de mudar a ordem pré-estabelecida dos valores"
      ],
      "metadata": {
        "id": "fkmXPXpPuBxo"
      },
      "execution_count": null,
      "outputs": []
    },
    {
      "cell_type": "code",
      "source": [
        "aragorn = (15, 1000)\n",
        "aragorn[0]\n",
        "# aragorn[0] += 100\n",
        "# A linha acima não funciona já que tuplas são imutáveis"
      ],
      "metadata": {
        "id": "991jwNHcvWse",
        "outputId": "d07cc119-7f2f-4c49-f4fa-5d0d76ff61e9",
        "colab": {
          "base_uri": "https://localhost:8080/"
        }
      },
      "execution_count": null,
      "outputs": [
        {
          "output_type": "execute_result",
          "data": {
            "text/plain": [
              "15"
            ]
          },
          "metadata": {},
          "execution_count": 155
        }
      ]
    },
    {
      "cell_type": "code",
      "source": [
        "def deposita(conta): # variação funcional (separando o comportamento dos dados)\n",
        "  novo_saldo = conta[1] + 100\n",
        "  codigo = conta[0]\n",
        "  return (codigo, novo_saldo)\n",
        "\n",
        "deposita(aragorn)\n",
        "aragorn"
      ],
      "metadata": {
        "id": "azI9f7sbvecz",
        "outputId": "dded324c-e35e-41d9-fbed-42a235e70234",
        "colab": {
          "base_uri": "https://localhost:8080/"
        }
      },
      "execution_count": null,
      "outputs": [
        {
          "output_type": "execute_result",
          "data": {
            "text/plain": [
              "(15, 1000)"
            ]
          },
          "metadata": {},
          "execution_count": 156
        }
      ]
    },
    {
      "cell_type": "code",
      "source": [
        "aragorn = deposita(aragorn)\n",
        "aragorn\n",
        "\n",
        "# A utilização de tuplas é mais associada com programação funcional\n",
        "# Se a posição indica alguma coisa, o melhor é usar tuplas\n",
        "# Caso contrário, é melhor usar listas\n",
        "# As listas são mais associadas a POO"
      ],
      "metadata": {
        "id": "BhbbK9oww1Mv",
        "outputId": "04cc38f5-214e-498f-92c3-833012513273",
        "colab": {
          "base_uri": "https://localhost:8080/"
        }
      },
      "execution_count": null,
      "outputs": [
        {
          "output_type": "execute_result",
          "data": {
            "text/plain": [
              "(15, 1100)"
            ]
          },
          "metadata": {},
          "execution_count": 157
        }
      ]
    },
    {
      "cell_type": "markdown",
      "source": [
        "**Lista de Tuplas**\n",
        "\n",
        "Aqui posso alterar a quantidade de listas, mas não posso alterar o valor dentro dessas listas, já que os valores estão em tupla."
      ],
      "metadata": {
        "id": "vm7FeEaYxcuQ"
      }
    },
    {
      "cell_type": "code",
      "source": [
        "usuarios = [vinicius, matheus]\n",
        "usuarios"
      ],
      "metadata": {
        "id": "GGp9h4L0xOHQ",
        "outputId": "b56ceba8-0c1b-4210-e79f-69f69c157862",
        "colab": {
          "base_uri": "https://localhost:8080/"
        }
      },
      "execution_count": null,
      "outputs": [
        {
          "output_type": "execute_result",
          "data": {
            "text/plain": [
              "[('Vinicius', 21, 2001), ('Matheus', 18, 2005)]"
            ]
          },
          "metadata": {},
          "execution_count": 158
        }
      ]
    },
    {
      "cell_type": "code",
      "source": [
        "usuarios.append(('Cleusa', 61, 1962))\n",
        "usuarios"
      ],
      "metadata": {
        "id": "6AIri6qZxoPZ",
        "outputId": "bd19a555-9001-4945-f01c-0c341106c776",
        "colab": {
          "base_uri": "https://localhost:8080/"
        }
      },
      "execution_count": null,
      "outputs": [
        {
          "output_type": "execute_result",
          "data": {
            "text/plain": [
              "[('Vinicius', 21, 2001), ('Matheus', 18, 2005), ('Cleusa', 61, 1962)]"
            ]
          },
          "metadata": {},
          "execution_count": 159
        }
      ]
    },
    {
      "cell_type": "code",
      "source": [
        "# usuarios[0][0] = 'Jorge'\n",
        "# A linha acima não funciona, pois estou tentando alterar uma tupla"
      ],
      "metadata": {
        "id": "Jul5gg-cyX3v"
      },
      "execution_count": null,
      "outputs": []
    },
    {
      "cell_type": "markdown",
      "source": [
        "**Tupla de Listas**\n",
        "\n",
        "Aqui a quantidade de tuplas não pode ser alterada, mas os valores dentro da tupla sim, já que estão dentro de uma lista.\n",
        "\n",
        "Essa forma não é muito utilizada, pois perde o sentido de as posições da tupla significam algo."
      ],
      "metadata": {
        "id": "DwnUxnyGywKh"
      }
    },
    {
      "cell_type": "code",
      "source": [
        "vinicius = contaCorrente(15)\n",
        "vinicius.deposita(500)\n",
        "matheus = contaCorrente(2345678)\n",
        "matheus.deposita(400)\n",
        "\n",
        "contas = (vinicius, matheus)\n",
        "\n",
        "for conta in contas:\n",
        "  print(conta)"
      ],
      "metadata": {
        "id": "AZJ6lFkfyvv5",
        "outputId": "155e522e-a28b-4550-c02e-873465ce2e2d",
        "colab": {
          "base_uri": "https://localhost:8080/"
        }
      },
      "execution_count": null,
      "outputs": [
        {
          "output_type": "stream",
          "name": "stdout",
          "text": [
            "[Código: 15, Saldo: 500]\n",
            "[Código: 2345678, Saldo: 400]\n"
          ]
        }
      ]
    },
    {
      "cell_type": "code",
      "source": [
        "contas[0].deposita(500)\n",
        "\n",
        "for conta in contas:\n",
        "  print(conta)"
      ],
      "metadata": {
        "id": "zBy0b0WUzs5a",
        "outputId": "21cc9bab-726e-40da-e10e-baa9d81f8101",
        "colab": {
          "base_uri": "https://localhost:8080/"
        }
      },
      "execution_count": null,
      "outputs": [
        {
          "output_type": "stream",
          "name": "stdout",
          "text": [
            "[Código: 15, Saldo: 1000]\n",
            "[Código: 2345678, Saldo: 400]\n"
          ]
        }
      ]
    },
    {
      "cell_type": "markdown",
      "source": [
        "# Herança e Poliformismo\n"
      ],
      "metadata": {
        "id": "UoZhOgU3Bie3"
      }
    },
    {
      "cell_type": "code",
      "source": [
        "from abc import ABCMeta, abstractmethod\n",
        "\n",
        "class Conta(metaclass=ABCMeta):\n",
        "\n",
        "  def __init__(self, codigo):\n",
        "    self._codigo = codigo\n",
        "    self._saldo = 0\n",
        "\n",
        "  def deposita(self, valor):\n",
        "    self._saldo += valor\n",
        "\n",
        "  @abstractmethod\n",
        "  def passa_o_mes(self):\n",
        "    pass\n",
        "\n",
        "  def __str__(self):\n",
        "    return (f\"[Código: {self._codigo}, Saldo: {self._saldo}]\")"
      ],
      "metadata": {
        "id": "lfO-LL3MBqil"
      },
      "execution_count": 16,
      "outputs": []
    },
    {
      "cell_type": "code",
      "source": [
        "# print(Conta(88)) não irá funcionar pois a classe é abstrata"
      ],
      "metadata": {
        "id": "XLI7OUI6CdrB"
      },
      "execution_count": 22,
      "outputs": []
    },
    {
      "cell_type": "code",
      "source": [
        "class ContaCorrente(Conta):\n",
        "  def passa_o_mes(self):\n",
        "    self._saldo -=2\n",
        "\n",
        "class ContaPoupanca(Conta):\n",
        "  def passa_o_mes(self):\n",
        "    self._saldo *= 1.01\n",
        "    self._saldo -= 3\n",
        "\n",
        "class ContaInvestimento(Conta):\n",
        "  pass"
      ],
      "metadata": {
        "id": "CnNZ2OyWCo55"
      },
      "execution_count": 18,
      "outputs": []
    },
    {
      "cell_type": "markdown",
      "source": [
        "**Herança**"
      ],
      "metadata": {
        "id": "RdCB8O3RDVdG"
      }
    },
    {
      "cell_type": "code",
      "source": [
        "conta16 = ContaCorrente(16)\n",
        "conta16.deposita(1000)\n",
        "conta16.passa_o_mes()\n",
        "print(conta16)"
      ],
      "metadata": {
        "id": "G-ZUG0feC8wV",
        "outputId": "dce088c8-8d82-439a-bec2-507cdcdf3ef8",
        "colab": {
          "base_uri": "https://localhost:8080/"
        }
      },
      "execution_count": 19,
      "outputs": [
        {
          "output_type": "stream",
          "name": "stdout",
          "text": [
            "[Código: 16, Saldo: 998]\n"
          ]
        }
      ]
    },
    {
      "cell_type": "code",
      "source": [
        "conta17 = ContaPoupanca(17)\n",
        "conta17.deposita(1000)\n",
        "conta17.passa_o_mes()\n",
        "print(conta17)"
      ],
      "metadata": {
        "id": "Ub25_sFvDGSr",
        "outputId": "a0c439d8-063f-423f-d40d-b5bf38858a98",
        "colab": {
          "base_uri": "https://localhost:8080/"
        }
      },
      "execution_count": 20,
      "outputs": [
        {
          "output_type": "stream",
          "name": "stdout",
          "text": [
            "[Código: 17, Saldo: 1007.0]\n"
          ]
        }
      ]
    },
    {
      "cell_type": "markdown",
      "source": [
        "**Poliformismo e Listas**\n",
        "\n",
        "Aqui podemos ver que uma lista iterável pode usar do poliformismo. As contas de diferentes classes que possuem um método com mesmo nome, mas com funcionalidades diferentes."
      ],
      "metadata": {
        "id": "X-laIXFeDWat"
      }
    },
    {
      "cell_type": "code",
      "source": [
        "conta16 = ContaCorrente(16)\n",
        "conta16.deposita(1000)\n",
        "conta17 = ContaPoupanca(17)\n",
        "conta17.deposita(1000)\n",
        "\n",
        "contas = [conta16, conta17]\n",
        "\n",
        "for conta in contas:\n",
        "  conta.passa_o_mes() # duck typing\n",
        "  print(conta)"
      ],
      "metadata": {
        "id": "z3LTwTlSDYE8",
        "outputId": "34dfe52d-1f90-4df2-b224-52af67e93301",
        "colab": {
          "base_uri": "https://localhost:8080/"
        }
      },
      "execution_count": 9,
      "outputs": [
        {
          "output_type": "stream",
          "name": "stdout",
          "text": [
            "[Código: 16, Saldo: 998]\n",
            "[Código: 17, Saldo: 1007.0]\n"
          ]
        }
      ]
    },
    {
      "cell_type": "markdown",
      "source": [
        "# Array\n",
        "\n",
        "Evitaremos usar o padrão do Python ao trabalhar com números."
      ],
      "metadata": {
        "id": "tQIoILXFEYK8"
      }
    },
    {
      "cell_type": "code",
      "source": [
        "import array as arr\n",
        "\n",
        "arr.array('d', [1, 3.5])\n",
        "\n",
        "\n",
        "\n"
      ],
      "metadata": {
        "id": "MGiu4pDuEcsD",
        "outputId": "bfcab58a-795c-45cf-a8b4-25c8192308de",
        "colab": {
          "base_uri": "https://localhost:8080/"
        }
      },
      "execution_count": 10,
      "outputs": [
        {
          "output_type": "execute_result",
          "data": {
            "text/plain": [
              "array('d', [1.0, 3.5])"
            ]
          },
          "metadata": {},
          "execution_count": 10
        }
      ]
    },
    {
      "cell_type": "markdown",
      "source": [
        "**Numpy**\n",
        "\n",
        "Ao invés de usarmos o array padrão, usaremos a biblioteca numpy."
      ],
      "metadata": {
        "id": "3Wsb09mNI7zp"
      }
    },
    {
      "cell_type": "code",
      "source": [
        "!pip install numpy # como instalar o numpy"
      ],
      "metadata": {
        "id": "fiDEQv6oJA_5",
        "outputId": "acffe06f-12ab-4dad-eaeb-f7163523bb94",
        "colab": {
          "base_uri": "https://localhost:8080/"
        }
      },
      "execution_count": 11,
      "outputs": [
        {
          "output_type": "stream",
          "name": "stdout",
          "text": [
            "Requirement already satisfied: numpy in /usr/local/lib/python3.10/dist-packages (1.22.4)\n"
          ]
        }
      ]
    },
    {
      "cell_type": "code",
      "source": [
        "import numpy as np\n",
        "\n",
        "numeros = np.array([1, 3.5])\n",
        "numeros += 3\n",
        "numeros"
      ],
      "metadata": {
        "id": "TPFLIp0oJRHB",
        "outputId": "2c4ebcfc-6100-4771-f318-16c385cf7a54",
        "colab": {
          "base_uri": "https://localhost:8080/"
        }
      },
      "execution_count": 14,
      "outputs": [
        {
          "output_type": "execute_result",
          "data": {
            "text/plain": [
              "array([4. , 6.5])"
            ]
          },
          "metadata": {},
          "execution_count": 14
        }
      ]
    },
    {
      "cell_type": "markdown",
      "source": [
        "**Igualdade e Equal**"
      ],
      "metadata": {
        "id": "LGXLZOI2L2rM"
      }
    },
    {
      "cell_type": "code",
      "source": [
        "class ContaSalario:\n",
        "\n",
        "  def __init__(self, codigo):\n",
        "    self._codigo = codigo\n",
        "    self._saldo = 0\n",
        "\n",
        "  def deposita(self, valor):\n",
        "    self.saldo += valor\n",
        "\n",
        "  def __str__(self):\n",
        "    return (f'[Código: {self._codigo}, Saldo: {self._saldo}]')\n"
      ],
      "metadata": {
        "id": "AAcCirARLBWG"
      },
      "execution_count": 24,
      "outputs": []
    },
    {
      "cell_type": "code",
      "source": [
        "conta1 = ContaSalario(37)\n",
        "print(conta1)"
      ],
      "metadata": {
        "id": "NFmLZsKHLiEw",
        "outputId": "e59a4653-2fd0-4e2e-c1c6-b3d26cfb7a7c",
        "colab": {
          "base_uri": "https://localhost:8080/"
        }
      },
      "execution_count": 25,
      "outputs": [
        {
          "output_type": "stream",
          "name": "stdout",
          "text": [
            "[Código: 37, Saldo: 0]\n"
          ]
        }
      ]
    },
    {
      "cell_type": "code",
      "source": [
        "conta2 = ContaSalario(37)\n",
        "print(conta2)"
      ],
      "metadata": {
        "id": "wwBri_zMLnHS",
        "outputId": "e96de455-b342-4eed-f632-45aa3480a190",
        "colab": {
          "base_uri": "https://localhost:8080/"
        }
      },
      "execution_count": 26,
      "outputs": [
        {
          "output_type": "stream",
          "name": "stdout",
          "text": [
            "[Código: 37, Saldo: 0]\n"
          ]
        }
      ]
    },
    {
      "cell_type": "code",
      "source": [
        "conta1 == conta2\n",
        "# O resultado será falso, pois apesar de os valores serem iguais\n",
        "# os objetos apontam para locais diferentes na memória."
      ],
      "metadata": {
        "id": "PDU9ByFhLrdP",
        "outputId": "eac478e9-deee-40d5-e9a1-934ecb779d2f",
        "colab": {
          "base_uri": "https://localhost:8080/"
        }
      },
      "execution_count": 27,
      "outputs": [
        {
          "output_type": "execute_result",
          "data": {
            "text/plain": [
              "False"
            ]
          },
          "metadata": {},
          "execution_count": 27
        }
      ]
    },
    {
      "cell_type": "markdown",
      "source": [
        "**Usando o Equals**\n"
      ],
      "metadata": {
        "id": "nBDZKyL2MTub"
      }
    },
    {
      "cell_type": "code",
      "source": [
        "class ContaSalario:\n",
        "\n",
        "  def __init__(self, codigo):\n",
        "    self._codigo = codigo\n",
        "    self._saldo = 0\n",
        "\n",
        "  def __eq__(self, outro):\n",
        "    if type(outro) != ContaSalario:\n",
        "      return False\n",
        "\n",
        "    return self._codigo == outro._codigo and self._saldo == outro._saldo\n",
        "\n",
        "  def deposita(self, valor):\n",
        "    self._saldo += valor\n",
        "\n",
        "  def __str__(self):\n",
        "    return (f'[Código: {self._codigo}, Saldo: {self._saldo}]')"
      ],
      "metadata": {
        "id": "LCle3yaeMAqM"
      },
      "execution_count": 43,
      "outputs": []
    },
    {
      "cell_type": "code",
      "source": [
        "conta1 = ContaSalario(37)\n",
        "conta2 = ContaSalario(37)\n",
        "\n",
        "conta1 == conta2"
      ],
      "metadata": {
        "id": "vNiBN-sLMf2g",
        "outputId": "f8231988-c096-4f95-89dd-49d15cf28832",
        "colab": {
          "base_uri": "https://localhost:8080/"
        }
      },
      "execution_count": 38,
      "outputs": [
        {
          "output_type": "execute_result",
          "data": {
            "text/plain": [
              "True"
            ]
          },
          "metadata": {},
          "execution_count": 38
        }
      ]
    },
    {
      "cell_type": "code",
      "source": [
        "conta1.deposita(10)\n",
        "conta1 == conta2\n",
        "\n",
        "# Agora irá dar False, pois as duas contas tem saldos diferentes."
      ],
      "metadata": {
        "id": "WiVXNWgdMzsg",
        "outputId": "32e7c0e7-8ace-4962-e349-16f5986021dd",
        "colab": {
          "base_uri": "https://localhost:8080/"
        }
      },
      "execution_count": 39,
      "outputs": [
        {
          "output_type": "execute_result",
          "data": {
            "text/plain": [
              "False"
            ]
          },
          "metadata": {},
          "execution_count": 39
        }
      ]
    },
    {
      "cell_type": "code",
      "source": [
        "conta1 = ContaSalario(37)\n",
        "conta2 = ContaCorrente(37)\n",
        "\n",
        "conta1 == conta2\n",
        "\n",
        "# Irá retornar false, porque foi feita a verificação de tipos na\n",
        "# função __eq__ da classe.\n"
      ],
      "metadata": {
        "id": "FgaQkf07NYac",
        "outputId": "e707fb3e-b2dd-45b8-a900-201c44018cb0",
        "colab": {
          "base_uri": "https://localhost:8080/"
        }
      },
      "execution_count": 44,
      "outputs": [
        {
          "output_type": "execute_result",
          "data": {
            "text/plain": [
              "False"
            ]
          },
          "metadata": {},
          "execution_count": 44
        }
      ]
    },
    {
      "cell_type": "code",
      "source": [
        "isinstance(ContaCorrente(34), ContaCorrente)"
      ],
      "metadata": {
        "id": "_WZ1L7BTOTa6",
        "outputId": "1f56bb7d-39cf-45ea-dc1c-19e5cc7b175f",
        "colab": {
          "base_uri": "https://localhost:8080/"
        }
      },
      "execution_count": 52,
      "outputs": [
        {
          "output_type": "execute_result",
          "data": {
            "text/plain": [
              "True"
            ]
          },
          "metadata": {},
          "execution_count": 52
        }
      ]
    },
    {
      "cell_type": "code",
      "source": [
        "isinstance(ContaCorrente(34), Conta)\n",
        "# É true, porque ContaCorrente herda de Conta."
      ],
      "metadata": {
        "id": "SaIqWvx2OdoT",
        "outputId": "8720d994-0176-4ffb-e86e-8a9d33369948",
        "colab": {
          "base_uri": "https://localhost:8080/"
        }
      },
      "execution_count": 53,
      "outputs": [
        {
          "output_type": "execute_result",
          "data": {
            "text/plain": [
              "True"
            ]
          },
          "metadata": {},
          "execution_count": 53
        }
      ]
    },
    {
      "cell_type": "code",
      "source": [
        "class ContaSalario:\n",
        "\n",
        "  def __init__(self, codigo):\n",
        "    self._codigo = codigo\n",
        "    self._saldo = 0\n",
        "\n",
        "  def __eq__(self, outro):\n",
        "    if type(outro) != ContaSalario:\n",
        "      return False\n",
        "\n",
        "    return self._codigo == outro._codigo and self._saldo == outro._saldo\n",
        "\n",
        "  def deposita(self, valor):\n",
        "    self._saldo += valor\n",
        "\n",
        "  def __str__(self):\n",
        "    return (f'[Código: {self._codigo}, Saldo: {self._saldo}]')\n",
        "\n",
        "class ContaMultiploSalario(ContaSalario):\n",
        "  pass"
      ],
      "metadata": {
        "id": "PcCwGvG0NtOW"
      },
      "execution_count": 50,
      "outputs": []
    }
  ]
}